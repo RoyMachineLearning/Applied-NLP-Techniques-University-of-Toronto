{
  "nbformat": 4,
  "nbformat_minor": 0,
  "metadata": {
    "colab": {
      "name": "Assignment2_Ashish_Gupta_3666_02_ANLP",
      "provenance": [],
      "collapsed_sections": []
    },
    "kernelspec": {
      "name": "python3",
      "display_name": "Python 3"
    }
  },
  "cells": [
    {
      "cell_type": "markdown",
      "metadata": {
        "id": "teg6DvNCroXp",
        "colab_type": "text"
      },
      "source": [
        "<p>\n",
        "In this assignment, write a Python code to read files in json format saved in local disk (or google drive). Then execute the following operations on that file:\n",
        "</p><p>\n",
        "Do the necessary preprocessing of those files to convert into a python pickled object which is a list of documents of paragraphs of sentences of pos tagged words.</p>\n",
        "<p>\n",
        "Read the pickled object created in step-1 and print the following from that object.\n",
        "</p>\n",
        "<li>Total number of unique words processed</li>\n",
        "<li>Total number of sentences processed</li>\n",
        "<li>Total number of Categories processed</li>\n"
      ]
    },
    {
      "cell_type": "code",
      "metadata": {
        "id": "ZcIhXoaMSuDy",
        "colab_type": "code",
        "outputId": "c9a09e96-b5c0-4568-bcdf-7215a43e04cb",
        "colab": {
          "base_uri": "https://localhost:8080/",
          "height": 34
        }
      },
      "source": [
        "#Mount Google drive\n",
        "from google.colab import drive\n",
        "drive.mount('/content/gdrive')"
      ],
      "execution_count": 0,
      "outputs": [
        {
          "output_type": "stream",
          "text": [
            "Drive already mounted at /content/gdrive; to attempt to forcibly remount, call drive.mount(\"/content/gdrive\", force_remount=True).\n"
          ],
          "name": "stdout"
        }
      ]
    },
    {
      "cell_type": "markdown",
      "metadata": {
        "id": "EoP-JEoFgMTJ",
        "colab_type": "text"
      },
      "source": [
        "I am taking a random sample of json files from Cinema and Book Categories"
      ]
    },
    {
      "cell_type": "code",
      "metadata": {
        "id": "tzKL669WSvJ4",
        "colab_type": "code",
        "outputId": "079ee51d-274d-428c-ab80-017c959d510d",
        "colab": {
          "base_uri": "https://localhost:8080/",
          "height": 319
        }
      },
      "source": [
        "#18 Cinema Files\n",
        "import os\n",
        "os.chdir(\"/content/gdrive/My Drive/Raw_Corpus_Sample/cinema\")\n",
        "os.listdir()"
      ],
      "execution_count": 0,
      "outputs": [
        {
          "output_type": "execute_result",
          "data": {
            "text/plain": [
              "['57ee9f2fdf23b703bff97467.json',\n",
              " '58ffc189df23b703bdf5725d.json',\n",
              " '58ff81d0df23b703bdf4ed73.json',\n",
              " '578fb10ec1808122283046cf.json',\n",
              " '588fe381df23b703b96f3a3d.json',\n",
              " '594c7b13df23b703bd762af4.json',\n",
              " '594c5be2df23b703bd75fa5e.json',\n",
              " '57111cbfc1808128a22fb04f.json',\n",
              " '5832a052df23b703bf8ca299.json',\n",
              " '5733a81cc1808103a3eff478.json',\n",
              " '5931bb42df23b703bd4aab59.json',\n",
              " '57324feac180817cd239cd98.json',\n",
              " '58821e85df23b703b9544023.json',\n",
              " '594991dbdf23b703bd7149a9.json',\n",
              " '58121789df23b703bf45fb92.json',\n",
              " '5710062ec1808128a22d8d6e.json',\n",
              " '58830743df23b703b9561bba.json',\n",
              " '58878186df23b703b95ea7c5.json']"
            ]
          },
          "metadata": {
            "tags": []
          },
          "execution_count": 158
        }
      ]
    },
    {
      "cell_type": "code",
      "metadata": {
        "id": "RObutUtmOxv-",
        "colab_type": "code",
        "outputId": "3283628b-0bce-452e-92ec-f19600d64ff4",
        "colab": {
          "base_uri": "https://localhost:8080/",
          "height": 252
        }
      },
      "source": [
        "#14 Book Files\n",
        "os.chdir(\"/content/gdrive/My Drive/Raw_Corpus_Sample/books\")\n",
        "os.listdir()"
      ],
      "execution_count": 0,
      "outputs": [
        {
          "output_type": "execute_result",
          "data": {
            "text/plain": [
              "['56d62a52c1808113ffb87f1d.json',\n",
              " '56d97be5c1808111c98555ef.json',\n",
              " '56dad6afc1808111c986ebc8.json',\n",
              " '580a7456df23b703bf3599f0.json',\n",
              " '56e846b0c1808103936f74d4.json',\n",
              " '56e846c8c1808103936f7509.json',\n",
              " '587fae0adf23b703b94f83e8.json',\n",
              " '58ad4669df23b703bd5375bd.json',\n",
              " '58345a5bdf23b703bf9072f2.json',\n",
              " '579250fcc18081222835c029.json',\n",
              " '594bb068df23b703bd74cf61.json',\n",
              " '5760a732c1808103a5c97754.json',\n",
              " '5977798cdf23b703bdbb9ff0.json',\n",
              " '58172264df23b703bf50901d.json']"
            ]
          },
          "metadata": {
            "tags": []
          },
          "execution_count": 159
        }
      ]
    },
    {
      "cell_type": "code",
      "metadata": {
        "id": "abchZT3nkry0",
        "colab_type": "code",
        "outputId": "88f1fbc8-33d9-4031-d8a7-bf5f95202874",
        "colab": {
          "base_uri": "https://localhost:8080/",
          "height": 84
        }
      },
      "source": [
        "!pip3 install readability-lxml"
      ],
      "execution_count": 0,
      "outputs": [
        {
          "output_type": "stream",
          "text": [
            "Requirement already satisfied: readability-lxml in /usr/local/lib/python3.6/dist-packages (0.7.1)\n",
            "Requirement already satisfied: lxml in /usr/local/lib/python3.6/dist-packages (from readability-lxml) (4.2.6)\n",
            "Requirement already satisfied: chardet in /usr/local/lib/python3.6/dist-packages (from readability-lxml) (3.0.4)\n",
            "Requirement already satisfied: cssselect in /usr/local/lib/python3.6/dist-packages (from readability-lxml) (1.1.0)\n"
          ],
          "name": "stdout"
        }
      ]
    },
    {
      "cell_type": "code",
      "metadata": {
        "id": "lJM8XNeDtvPq",
        "colab_type": "code",
        "outputId": "c85b60d6-0546-4224-e973-551ba8855802",
        "colab": {
          "base_uri": "https://localhost:8080/",
          "height": 134
        }
      },
      "source": [
        "import nltk\n",
        "nltk.download('punkt')\n",
        "nltk.download('averaged_perceptron_tagger')"
      ],
      "execution_count": 0,
      "outputs": [
        {
          "output_type": "stream",
          "text": [
            "[nltk_data] Downloading package punkt to /root/nltk_data...\n",
            "[nltk_data]   Package punkt is already up-to-date!\n",
            "[nltk_data] Downloading package averaged_perceptron_tagger to\n",
            "[nltk_data]     /root/nltk_data...\n",
            "[nltk_data]   Package averaged_perceptron_tagger is already up-to-\n",
            "[nltk_data]       date!\n"
          ],
          "name": "stdout"
        },
        {
          "output_type": "execute_result",
          "data": {
            "text/plain": [
              "True"
            ]
          },
          "metadata": {
            "tags": []
          },
          "execution_count": 161
        }
      ]
    },
    {
      "cell_type": "code",
      "metadata": {
        "id": "TEB-Vz3MaIaw",
        "colab_type": "code",
        "colab": {}
      },
      "source": [
        "import bs4\n",
        "import time\n",
        "import pickle\n",
        "import logging\n",
        "import codecs\n",
        "\n",
        "from nltk.corpus.reader.api import CorpusReader\n",
        "from nltk.corpus.reader.api import CategorizedCorpusReader\n",
        "\n",
        "from readability.readability import Unparseable\n",
        "from readability.readability import Document as Paper\n",
        "from nltk import pos_tag, sent_tokenize, wordpunct_tokenize\n",
        "\n",
        "log = logging.getLogger(\"readability.readability\")\n",
        "log.setLevel('WARNING')\n",
        "\n",
        "DOC_PATTERN = r'(?!\\.)[a-z_\\s]+/[a-f0-9]+\\.json'\n",
        "PKL_PATTERN = r'(?!\\.)[a-z_\\s]+/[a-f0-9]+\\.pickle'\n",
        "CAT_PATTERN = r'([a-z_\\s]+)/.*'\n",
        "\n",
        "TAGS = ['h1', 'h2', 'h3', 'h4', 'h5', 'h6', 'p', 'li']\n"
      ],
      "execution_count": 0,
      "outputs": []
    },
    {
      "cell_type": "code",
      "metadata": {
        "id": "hk2-OoAymSse",
        "colab_type": "code",
        "colab": {}
      },
      "source": [
        "class JSONCorpusReader(CategorizedCorpusReader, CorpusReader):\n",
        "    \"\"\" A corpus reader for JSON files to enable preprocessing.\"\"\"\n",
        "\n",
        "    def __init__(self, root, fileids=DOC_PATTERN, encoding='utf8', tags=TAGS, **kwargs):\n",
        "        \"\"\"Initialize the corpus reader.  Categorization arguments\n",
        "        (``cat_pattern``, ``cat_map``, and ``cat_file``) are passed to\n",
        "        the ``CategorizedCorpusReader`` constructor.  The remaining\n",
        "        arguments are passed to the ``CorpusReader`` constructor.\"\"\"\n",
        "        # Add the default category pattern if not passed into the class.\n",
        "        if not any(key.startswith('cat_') for key in kwargs.keys()):\n",
        "            kwargs['cat_pattern'] = CAT_PATTERN\n",
        "\n",
        "        # Initialize the NLTK corpus reader objects\n",
        "        CategorizedCorpusReader.__init__(self, kwargs)\n",
        "        CorpusReader.__init__(self, root, fileids, encoding)\n",
        "\n",
        "        # Save the tags that we specifically want to extract.\n",
        "        self.tags = tags\n",
        "\n",
        "    def resolve(self, fileids, categories):\n",
        "        \"\"\"\n",
        "        Returns a list of fileids or categories depending on what is passed\n",
        "        to each internal corpus reader function. Implemented similarly to\n",
        "        the NLTK ``CategorizedPlaintextCorpusReader``.\n",
        "        \"\"\"\n",
        "        if fileids is not None and categories is not None:\n",
        "            raise ValueError(\"Specify fileids or categories, not both\")\n",
        "\n",
        "        if categories is not None:\n",
        "            return self.fileids(categories)\n",
        "        return fileids\n",
        "\n",
        "  \n",
        "    def docs(self, fileids=None, categories=None):\n",
        "        \"\"\"\n",
        "        Returns the complete text of an HTML document, closing the document\n",
        "        after we are done reading it and yielding it in a memory safe fashion.\n",
        "        \"\"\"\n",
        "        # Resolve the fileids and the categories\n",
        "        fileids = self.resolve(fileids, categories)\n",
        "\n",
        "        # Create a generator, loading one document into memory at a time.\n",
        "        for path, encoding in self.abspaths(fileids, include_encoding=True):\n",
        "            with codecs.open(path, 'r', encoding=encoding) as f:\n",
        "                yield f.read()\n",
        "\n",
        "    def sizes(self, fileids=None, categories=None):\n",
        "        \"\"\"\n",
        "        Returns a list of tuples, the fileid and size on disk of the file.\n",
        "        This function is used to detect oddly large files in the corpus.\n",
        "        \"\"\"\n",
        "        # Resolve the fileids and the categories\n",
        "        fileids = self.resolve(fileids, categories)\n",
        "\n",
        "        # Create a generator, getting every path and computing filesize\n",
        "        for path in self.abspaths(fileids):\n",
        "            yield os.path.getsize(path)\n",
        "    \n",
        "    def html(self, fileids=None, categories=None):\n",
        "        \"\"\"\n",
        "        Returns the HTML content of each document, cleaning it using\n",
        "        the readability-lxml library.\n",
        "        \"\"\"\n",
        "        for doc in self.docs(fileids, categories):\n",
        "            try:\n",
        "                yield Paper(doc).summary()\n",
        "            except Unparseable as e:\n",
        "                print(\"Could not parse HTML: {}\".format(e))\n",
        "                continue\n",
        "\n",
        "    import bs4\n",
        "    TAGS = ['h1', 'h2', 'h3', 'h4', 'h5', 'h6', 'p', 'li']\n",
        "    #....\n",
        "    def paras(self, fileids=None, categories=None):\n",
        "        \"\"\"\n",
        "        Uses BeautifulSoup to parse the paragraphs from the HTML.\n",
        "        \"\"\"\n",
        "        for html in self.html(fileids, categories):\n",
        "            soup = bs4.BeautifulSoup(html, 'lxml')\n",
        "            for element in soup.find_all(self.tags):\n",
        "                yield element.text\n",
        "            soup.decompose()\n",
        "\n",
        "    def sents(self, fileids=None, categories=None):\n",
        "        \"\"\"\n",
        "        Uses the built in sentence tokenizer to extract sentences from the\n",
        "        paragraphs. Note that this method uses BeautifulSoup to parse HTML.\n",
        "        \"\"\"\n",
        "        for paragraph in self.paras(fileids, categories):\n",
        "            for sentence in sent_tokenize(paragraph):\n",
        "                yield sentence\n",
        "\n",
        "    def words(self, fileids=None, categories=None):\n",
        "        \"\"\"\n",
        "        Uses the built in word tokenizer to extract tokens from sentences.\n",
        "        Note that this method uses BeautifulSoup to parse HTML content.\n",
        "        \"\"\"\n",
        "        for sentence in self.sents(fileids, categories):\n",
        "            for token in wordpunct_tokenize(sentence):\n",
        "                yield token\n",
        "\n",
        "    def tokenize(self, fileids=None, categories=None):\n",
        "        \"\"\"\n",
        "        Segments, tokenizes, and tags a document in the corpus.\n",
        "        \"\"\"\n",
        "        for paragraph in self.paras(fileids=fileids):\n",
        "            yield [\n",
        "                pos_tag(wordpunct_tokenize(sent))\n",
        "                for sent in sent_tokenize(paragraph)\n",
        "            ]\n",
        "\n",
        "    def describe(self, fileids=None, categories=None):\n",
        "        \"\"\"\n",
        "        Performs a single pass of the corpus and\n",
        "        returns a dictionary with a variety of metrics\n",
        "        concerning the state of the corpus.\n",
        "        \"\"\"\n",
        "        started = time.time()\n",
        "\n",
        "        # Structures to perform counting.\n",
        "        counts  = nltk.FreqDist()\n",
        "        tokens  = nltk.FreqDist()\n",
        "\n",
        "        # Perform single pass over paragraphs, tokenize and count\n",
        "        for para in self.paras(fileids, categories):\n",
        "            counts['paras'] += 1\n",
        "\n",
        "            for sent in sent_tokenize(para):\n",
        "                counts['sents'] += 1\n",
        "\n",
        "                for word in wordpunct_tokenize(sent):\n",
        "                    counts['words'] += 1\n",
        "                    tokens[word] += 1\n",
        "\n",
        "        # Compute the number of files and categories in the corpus\n",
        "        n_fileids = len(self.resolve(fileids, categories) or self.fileids())\n",
        "        n_topics  = len(self.categories(self.resolve(fileids, categories)))\n",
        "\n",
        "        # Return data structure with information\n",
        "        return {\n",
        "            'files':  n_fileids,\n",
        "            'topics': n_topics,\n",
        "            'paras':  counts['paras'],\n",
        "            'sents':  counts['sents'],\n",
        "            'words':  counts['words'],\n",
        "            'vocab':  len(tokens),\n",
        "            'lexdiv': float(counts['words']) / float(len(tokens)),\n",
        "            'ppdoc':  float(counts['paras']) / float(n_fileids),\n",
        "            'sppar':  float(counts['sents']) / float(counts['paras']),\n",
        "            'secs':   time.time() - started,\n",
        "        }"
      ],
      "execution_count": 0,
      "outputs": []
    },
    {
      "cell_type": "code",
      "metadata": {
        "id": "3DKAxrFJqPQ6",
        "colab_type": "code",
        "colab": {}
      },
      "source": [
        "class Preprocessor(object):\n",
        "    \"\"\"\n",
        "    The preprocessor wraps a corpus object (usually a `HTMLCorpusReader`)\n",
        "    and manages the stateful tokenization and part of speech tagging into a\n",
        "    directory that is stored in a format that can be read by the\n",
        "    `HTMLPickledCorpusReader`. This format is more compact and necessarily\n",
        "    removes a variety of fields from the document that are stored in the JSON\n",
        "    representation dumped from the Mongo database. This format however is more\n",
        "    easily accessed for common parsing activity.\n",
        "    \"\"\"\n",
        "\n",
        "    def __init__(self, corpus, target=None, **kwargs):\n",
        "        \"\"\"\n",
        "        The corpus is the `HTMLCorpusReader` to preprocess and pickle.\n",
        "        The target is the directory on disk to output the pickled corpus to.\n",
        "        \"\"\"\n",
        "        self.corpus = corpus\n",
        "        self.target = target\n",
        "\n",
        "    def fileids(self, fileids=None, categories=None):\n",
        "        \"\"\"\n",
        "        Helper function access the fileids of the corpus\n",
        "        \"\"\"\n",
        "        fileids = self.corpus.resolve(fileids, categories)\n",
        "        if fileids:\n",
        "            return fileids\n",
        "        return self.corpus.fileids()\n",
        "\n",
        "    def abspath(self, fileid):\n",
        "        \"\"\"\n",
        "        Returns the absolute path to the target fileid from the corpus fileid.\n",
        "        \"\"\"\n",
        "        # Find the directory, relative from the corpus root.\n",
        "        parent = os.path.relpath(\n",
        "            os.path.dirname(self.corpus.abspath(fileid)), self.corpus.root\n",
        "        )\n",
        "\n",
        "        # Compute the name parts to reconstruct\n",
        "        basename  = os.path.basename(fileid)\n",
        "        name, ext = os.path.splitext(basename)\n",
        "\n",
        "        # Create the pickle file extension\n",
        "        basename  = name + '.pickle'\n",
        "\n",
        "        # Return the path to the file relative to the target.\n",
        "        return os.path.normpath(os.path.join(self.target, parent, basename))\n",
        "\n",
        "    def tokenize(self, fileid):\n",
        "        \"\"\"\n",
        "        Segments, tokenizes, and tags a document in the corpus. Returns a\n",
        "        generator of paragraphs, which are lists of sentences, which in turn\n",
        "        are lists of part of speech tagged words.\n",
        "        \"\"\"\n",
        "        for paragraph in self.corpus.paras(fileids=fileid):\n",
        "            yield [\n",
        "                pos_tag(wordpunct_tokenize(sent))\n",
        "                for sent in sent_tokenize(paragraph)\n",
        "            ]\n",
        "\n",
        "    def process(self, fileid):\n",
        "        \"\"\"\n",
        "        For a single file does the following preprocessing work:\n",
        "            1. Checks the location on disk to make sure no errors occur.\n",
        "            2. Gets all paragraphs for the given text.\n",
        "            3. Segements the paragraphs with the sent_tokenizer\n",
        "            4. Tokenizes the sentences with the wordpunct_tokenizer\n",
        "            5. Tags the sentences using the default pos_tagger\n",
        "            6. Writes the document as a pickle to the target location.\n",
        "        This method is called multiple times from the transform runner.\n",
        "        \"\"\"\n",
        "        # Compute the outpath to write the file to.\n",
        "        target = self.abspath(fileid)\n",
        "        parent = os.path.dirname(target)\n",
        "\n",
        "        # Make sure the directory exists\n",
        "        if not os.path.exists(parent):\n",
        "            os.makedirs(parent)\n",
        "\n",
        "        # Make sure that the parent is a directory and not a file\n",
        "        if not os.path.isdir(parent):\n",
        "            raise ValueError(\n",
        "                \"Please supply a directory to write preprocessed data to.\"\n",
        "            )\n",
        "\n",
        "        # Create a data structure for the pickle\n",
        "        document = list(self.tokenize(fileid))\n",
        "\n",
        "        # Open and serialize the pickle to disk\n",
        "        with open(target, 'wb') as f:\n",
        "            pickle.dump(document, f, pickle.HIGHEST_PROTOCOL)\n",
        "\n",
        "        # Clean up the document\n",
        "        del document\n",
        "\n",
        "        # Return the target fileid\n",
        "        return target\n",
        "\n",
        "    def transform(self, fileids=None, categories=None):\n",
        "        \"\"\"\n",
        "        Transform the wrapped corpus, writing out the segmented, tokenized,\n",
        "        and part of speech tagged corpus as a pickle to the target directory.\n",
        "        This method will also directly copy files that are in the corpus.root\n",
        "        directory that are not matched by the corpus.fileids().\n",
        "        \"\"\"\n",
        "        # Make the target directory if it doesn't already exist\n",
        "        if not os.path.exists(self.target):\n",
        "            os.makedirs(self.target)\n",
        "\n",
        "        # Resolve the fileids to start processing and return the list of \n",
        "        # target file ids to pass to downstream transformers. \n",
        "        return [\n",
        "            self.process(fileid)\n",
        "            for fileid in self.fileids(fileids, categories)\n",
        "        ]"
      ],
      "execution_count": 0,
      "outputs": []
    },
    {
      "cell_type": "code",
      "metadata": {
        "id": "ulVnmWHuaquH",
        "colab_type": "code",
        "colab": {}
      },
      "source": [
        "url = '/content/gdrive/My Drive/Raw_Corpus_Sample'\n",
        "corpus = JSONCorpusReader(url)"
      ],
      "execution_count": 0,
      "outputs": []
    },
    {
      "cell_type": "code",
      "metadata": {
        "id": "lckpI1S4gAa6",
        "colab_type": "code",
        "outputId": "6225c365-9d69-4140-d2ac-65bd74631eef",
        "colab": {
          "base_uri": "https://localhost:8080/",
          "height": 554
        }
      },
      "source": [
        "corpus.fileids()"
      ],
      "execution_count": 0,
      "outputs": [
        {
          "output_type": "execute_result",
          "data": {
            "text/plain": [
              "['books/56d62a52c1808113ffb87f1d.json',\n",
              " 'books/56d97be5c1808111c98555ef.json',\n",
              " 'books/56dad6afc1808111c986ebc8.json',\n",
              " 'books/56e846b0c1808103936f74d4.json',\n",
              " 'books/56e846c8c1808103936f7509.json',\n",
              " 'books/5760a732c1808103a5c97754.json',\n",
              " 'books/579250fcc18081222835c029.json',\n",
              " 'books/580a7456df23b703bf3599f0.json',\n",
              " 'books/58172264df23b703bf50901d.json',\n",
              " 'books/58345a5bdf23b703bf9072f2.json',\n",
              " 'books/587fae0adf23b703b94f83e8.json',\n",
              " 'books/58ad4669df23b703bd5375bd.json',\n",
              " 'books/594bb068df23b703bd74cf61.json',\n",
              " 'books/5977798cdf23b703bdbb9ff0.json',\n",
              " 'cinema/5710062ec1808128a22d8d6e.json',\n",
              " 'cinema/57111cbfc1808128a22fb04f.json',\n",
              " 'cinema/57324feac180817cd239cd98.json',\n",
              " 'cinema/5733a81cc1808103a3eff478.json',\n",
              " 'cinema/578fb10ec1808122283046cf.json',\n",
              " 'cinema/57ee9f2fdf23b703bff97467.json',\n",
              " 'cinema/58121789df23b703bf45fb92.json',\n",
              " 'cinema/5832a052df23b703bf8ca299.json',\n",
              " 'cinema/58821e85df23b703b9544023.json',\n",
              " 'cinema/58830743df23b703b9561bba.json',\n",
              " 'cinema/58878186df23b703b95ea7c5.json',\n",
              " 'cinema/588fe381df23b703b96f3a3d.json',\n",
              " 'cinema/58ff81d0df23b703bdf4ed73.json',\n",
              " 'cinema/58ffc189df23b703bdf5725d.json',\n",
              " 'cinema/5931bb42df23b703bd4aab59.json',\n",
              " 'cinema/594991dbdf23b703bd7149a9.json',\n",
              " 'cinema/594c5be2df23b703bd75fa5e.json',\n",
              " 'cinema/594c7b13df23b703bd762af4.json']"
            ]
          },
          "metadata": {
            "tags": []
          },
          "execution_count": 166
        }
      ]
    },
    {
      "cell_type": "code",
      "metadata": {
        "id": "ackKv5qya9HA",
        "colab_type": "code",
        "colab": {}
      },
      "source": [
        "preprocess = Preprocessor(corpus,r'/content/gdrive/My Drive/Raw_Corpus_Sample/data')"
      ],
      "execution_count": 0,
      "outputs": []
    },
    {
      "cell_type": "code",
      "metadata": {
        "id": "d_GA8foubQGu",
        "colab_type": "code",
        "outputId": "c0343a14-f5ec-4a9e-def9-3b6605b304d1",
        "colab": {
          "base_uri": "https://localhost:8080/",
          "height": 554
        }
      },
      "source": [
        "preprocess.transform()"
      ],
      "execution_count": 0,
      "outputs": [
        {
          "output_type": "execute_result",
          "data": {
            "text/plain": [
              "['/content/gdrive/My Drive/Raw_Corpus_Sample/data/books/56d62a52c1808113ffb87f1d.pickle',\n",
              " '/content/gdrive/My Drive/Raw_Corpus_Sample/data/books/56d97be5c1808111c98555ef.pickle',\n",
              " '/content/gdrive/My Drive/Raw_Corpus_Sample/data/books/56dad6afc1808111c986ebc8.pickle',\n",
              " '/content/gdrive/My Drive/Raw_Corpus_Sample/data/books/56e846b0c1808103936f74d4.pickle',\n",
              " '/content/gdrive/My Drive/Raw_Corpus_Sample/data/books/56e846c8c1808103936f7509.pickle',\n",
              " '/content/gdrive/My Drive/Raw_Corpus_Sample/data/books/5760a732c1808103a5c97754.pickle',\n",
              " '/content/gdrive/My Drive/Raw_Corpus_Sample/data/books/579250fcc18081222835c029.pickle',\n",
              " '/content/gdrive/My Drive/Raw_Corpus_Sample/data/books/580a7456df23b703bf3599f0.pickle',\n",
              " '/content/gdrive/My Drive/Raw_Corpus_Sample/data/books/58172264df23b703bf50901d.pickle',\n",
              " '/content/gdrive/My Drive/Raw_Corpus_Sample/data/books/58345a5bdf23b703bf9072f2.pickle',\n",
              " '/content/gdrive/My Drive/Raw_Corpus_Sample/data/books/587fae0adf23b703b94f83e8.pickle',\n",
              " '/content/gdrive/My Drive/Raw_Corpus_Sample/data/books/58ad4669df23b703bd5375bd.pickle',\n",
              " '/content/gdrive/My Drive/Raw_Corpus_Sample/data/books/594bb068df23b703bd74cf61.pickle',\n",
              " '/content/gdrive/My Drive/Raw_Corpus_Sample/data/books/5977798cdf23b703bdbb9ff0.pickle',\n",
              " '/content/gdrive/My Drive/Raw_Corpus_Sample/data/cinema/5710062ec1808128a22d8d6e.pickle',\n",
              " '/content/gdrive/My Drive/Raw_Corpus_Sample/data/cinema/57111cbfc1808128a22fb04f.pickle',\n",
              " '/content/gdrive/My Drive/Raw_Corpus_Sample/data/cinema/57324feac180817cd239cd98.pickle',\n",
              " '/content/gdrive/My Drive/Raw_Corpus_Sample/data/cinema/5733a81cc1808103a3eff478.pickle',\n",
              " '/content/gdrive/My Drive/Raw_Corpus_Sample/data/cinema/578fb10ec1808122283046cf.pickle',\n",
              " '/content/gdrive/My Drive/Raw_Corpus_Sample/data/cinema/57ee9f2fdf23b703bff97467.pickle',\n",
              " '/content/gdrive/My Drive/Raw_Corpus_Sample/data/cinema/58121789df23b703bf45fb92.pickle',\n",
              " '/content/gdrive/My Drive/Raw_Corpus_Sample/data/cinema/5832a052df23b703bf8ca299.pickle',\n",
              " '/content/gdrive/My Drive/Raw_Corpus_Sample/data/cinema/58821e85df23b703b9544023.pickle',\n",
              " '/content/gdrive/My Drive/Raw_Corpus_Sample/data/cinema/58830743df23b703b9561bba.pickle',\n",
              " '/content/gdrive/My Drive/Raw_Corpus_Sample/data/cinema/58878186df23b703b95ea7c5.pickle',\n",
              " '/content/gdrive/My Drive/Raw_Corpus_Sample/data/cinema/588fe381df23b703b96f3a3d.pickle',\n",
              " '/content/gdrive/My Drive/Raw_Corpus_Sample/data/cinema/58ff81d0df23b703bdf4ed73.pickle',\n",
              " '/content/gdrive/My Drive/Raw_Corpus_Sample/data/cinema/58ffc189df23b703bdf5725d.pickle',\n",
              " '/content/gdrive/My Drive/Raw_Corpus_Sample/data/cinema/5931bb42df23b703bd4aab59.pickle',\n",
              " '/content/gdrive/My Drive/Raw_Corpus_Sample/data/cinema/594991dbdf23b703bd7149a9.pickle',\n",
              " '/content/gdrive/My Drive/Raw_Corpus_Sample/data/cinema/594c5be2df23b703bd75fa5e.pickle',\n",
              " '/content/gdrive/My Drive/Raw_Corpus_Sample/data/cinema/594c7b13df23b703bd762af4.pickle']"
            ]
          },
          "metadata": {
            "tags": []
          },
          "execution_count": 168
        }
      ]
    },
    {
      "cell_type": "code",
      "metadata": {
        "id": "CT_urs4-mbY-",
        "colab_type": "code",
        "colab": {}
      },
      "source": [
        "class PickledCorpusReader(CategorizedCorpusReader, CorpusReader):\n",
        "\n",
        "    def __init__(self, root, fileids=PKL_PATTERN, **kwargs):\n",
        "        \"\"\"\n",
        "        Initialize the corpus reader.  Categorization arguments\n",
        "        (``cat_pattern``, ``cat_map``, and ``cat_file``) are passed to\n",
        "        the ``CategorizedCorpusReader`` constructor.  The remaining arguments\n",
        "        are passed to the ``CorpusReader`` constructor.\n",
        "        \"\"\"\n",
        "        # Add the default category pattern if not passed into the class.\n",
        "        if not any(key.startswith('cat_') for key in kwargs.keys()):\n",
        "            kwargs['cat_pattern'] = CAT_PATTERN\n",
        "\n",
        "        CategorizedCorpusReader.__init__(self, kwargs)\n",
        "        CorpusReader.__init__(self, root, fileids)\n",
        "\n",
        "    def resolve(self, fileids, categories):\n",
        "        \"\"\"\n",
        "        Returns a list of fileids or categories depending on what is passed\n",
        "        to each internal corpus reader function. This primarily bubbles up to\n",
        "        the high level ``docs`` method, but is implemented here similar to\n",
        "        the nltk ``CategorizedPlaintextCorpusReader``.\n",
        "        \"\"\"\n",
        "        if fileids is not None and categories is not None:\n",
        "            raise ValueError(\"Specify fileids or categories, not both\")\n",
        "\n",
        "        if categories is not None:\n",
        "            return self.fileids(categories)\n",
        "        return fileids\n",
        "\n",
        "    def docs(self, fileids=None, categories=None):\n",
        "        \"\"\"\n",
        "        Returns the document loaded from a pickled object for every file in\n",
        "        the corpus. Similar to the BaleenCorpusReader, this uses a generator\n",
        "        to acheive memory safe iteration.\n",
        "        \"\"\"\n",
        "        # Resolve the fileids and the categories\n",
        "        fileids = self.resolve(fileids, categories)\n",
        "\n",
        "        # Create a generator, loading one document into memory at a time.\n",
        "        for path, enc, fileid in self.abspaths(fileids, True, True):\n",
        "            with open(path, 'rb') as f:\n",
        "                yield pickle.load(f)\n",
        "\n",
        "    def paras(self, fileids=None, categories=None):\n",
        "        \"\"\"\n",
        "        Returns a generator of paragraphs where each paragraph is a list of\n",
        "        sentences, which is in turn a list of (token, tag) tuples.\n",
        "        \"\"\"\n",
        "        for doc in self.docs(fileids, categories):\n",
        "            for paragraph in doc:\n",
        "                yield paragraph\n",
        "\n",
        "    def sents(self, fileids=None, categories=None):\n",
        "        \"\"\"\n",
        "        Returns a generator of sentences where each sentence is a list of\n",
        "        (token, tag) tuples.\n",
        "        \"\"\"\n",
        "        for paragraph in self.paras(fileids, categories):\n",
        "            for sentence in paragraph:\n",
        "                yield sentence\n",
        "\n",
        "    def tagged(self, fileids=None, categories=None):\n",
        "        for sent in self.sents(fileids, categories):\n",
        "            for token in sent:\n",
        "                yield token\n",
        "\n",
        "    def words(self, fileids=None, categories=None):\n",
        "        \"\"\"\n",
        "        Returns a generator of (token, tag) tuples.\n",
        "        \"\"\"\n",
        "        for token in self.tagged(fileids, categories):\n",
        "            yield token[0]"
      ],
      "execution_count": 0,
      "outputs": []
    },
    {
      "cell_type": "code",
      "metadata": {
        "id": "suOGBEikqc4w",
        "colab_type": "code",
        "outputId": "e66643d0-f8c5-4c5d-eb64-8f731184c34a",
        "colab": {
          "base_uri": "https://localhost:8080/",
          "height": 50
        }
      },
      "source": [
        "## Main Program Execution Starts here  ########        \n",
        "\n",
        "from collections import Counter\n",
        "\n",
        "# Use the path where you saved your input dataset in below statement\n",
        "reader = PickledCorpusReader('/content/gdrive/My Drive/Raw_Corpus_Sample/data/')\n",
        "\n",
        "# Total number of unique words processed\n",
        "# Total number of sentences processed\n",
        "words  = Counter(reader.words())\n",
        "print(\"Unique Words : {:,} , Frequency of words : {:,} \".format(len(words.keys()), sum(words.values())))\n",
        "\n",
        "sentences  = reader.sents()\n",
        "print(\"Total Sentences : {:,}\".format(len(list(sentences))))\n",
        "        "
      ],
      "execution_count": 0,
      "outputs": [
        {
          "output_type": "stream",
          "text": [
            "Unique Words : 6,910 , Frequency of words : 49,368 \n",
            "Total Sentences : 3,176\n"
          ],
          "name": "stdout"
        }
      ]
    },
    {
      "cell_type": "code",
      "metadata": {
        "id": "0ZLykd_zyBsK",
        "colab_type": "code",
        "colab": {}
      },
      "source": [
        "#lets check some of the unique words generated\n",
        "from wordcloud import WordCloud, STOPWORDS\n",
        "import matplotlib.pyplot as plt\n",
        "stopwords = set(STOPWORDS)\n",
        "def show_wordcloud(data, title = None):\n",
        "    wordcloud = WordCloud(\n",
        "        background_color='white',\n",
        "        stopwords=stopwords,\n",
        "        max_words=100,\n",
        "        max_font_size=40, \n",
        "        scale=5,\n",
        "        random_state=1\n",
        "    ).generate(str(data))\n",
        "\n",
        "    fig = plt.figure(1, figsize=(12.5,12.5))\n",
        "    plt.axis('off')\n",
        "    if title: \n",
        "        fig.suptitle(title, fontsize=10)\n",
        "        fig.subplots_adjust(top=2.3)\n",
        "\n",
        "    plt.imshow(wordcloud)\n",
        "    plt.show()"
      ],
      "execution_count": 0,
      "outputs": []
    },
    {
      "cell_type": "code",
      "metadata": {
        "id": "nN0K488xziHH",
        "colab_type": "code",
        "colab": {}
      },
      "source": [
        "import collections\n",
        "import pandas as pd\n",
        "words_dataframe = pd.DataFrame.from_dict(words, orient='index').reset_index()"
      ],
      "execution_count": 0,
      "outputs": []
    },
    {
      "cell_type": "code",
      "metadata": {
        "id": "kiUV1ExiyjJn",
        "colab_type": "code",
        "outputId": "8e646756-466d-46de-8d31-df896241e9a0",
        "colab": {
          "base_uri": "https://localhost:8080/",
          "height": 425
        }
      },
      "source": [
        "show_wordcloud(words_dataframe[\"index\"].sample(50), title = 'Prevalent words in the Json Files')"
      ],
      "execution_count": 0,
      "outputs": [
        {
          "output_type": "display_data",
          "data": {
            "image/png": "[encoded data removed]",
            "text/plain": [
              "<Figure size 900x900 with 1 Axes>"
            ]
          },
          "metadata": {
            "tags": []
          }
        }
      ]
    },
    {
      "cell_type": "code",
      "metadata": {
        "id": "Exx8dgKGWzST",
        "colab_type": "code",
        "outputId": "ae9809f0-6eb9-4a65-bfaa-2c78487e507e",
        "colab": {
          "base_uri": "https://localhost:8080/",
          "height": 67
        }
      },
      "source": [
        "#Total number of Categories processed (Counting Pickle Files)\n",
        "import os, os.path\n",
        "\n",
        "DIR_MAIN = '/content/gdrive/My Drive/Raw_Corpus_Sample/data/'\n",
        "print (\"Total Number of Categories processed : {} \".format(reader.categories()))\n",
        "\n",
        "categories = [name for name in reader.categories()]\n",
        "\n",
        "for i in categories:\n",
        "  DIR = DIR_MAIN + i\n",
        "  print ('The Category ' + i + ' has processed {:,} pickle files'.format(len([name for name in os.listdir(DIR) if os.path.isfile(os.path.join(DIR, name))])))"
      ],
      "execution_count": 0,
      "outputs": [
        {
          "output_type": "stream",
          "text": [
            "Total Number of Categories processed : ['books', 'cinema'] \n",
            "The Category books has processed 14 pickle files\n",
            "The Category cinema has processed 18 pickle files\n"
          ],
          "name": "stdout"
        }
      ]
    }
  ]
}