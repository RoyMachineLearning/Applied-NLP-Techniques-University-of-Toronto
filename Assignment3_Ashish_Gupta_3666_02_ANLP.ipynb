{
  "nbformat": 4,
  "nbformat_minor": 0,
  "metadata": {
    "colab": {
      "name": "Assignment3(Optional)_Ashish_Gupta_3666_02_ANLP",
      "provenance": [],
      "collapsed_sections": []
    },
    "kernelspec": {
      "name": "python3",
      "display_name": "Python 3"
    },
    "accelerator": "TPU"
  },
  "cells": [
    {
      "cell_type": "markdown",
      "metadata": {
        "id": "NXzM8E-PelGa",
        "colab_type": "text"
      },
      "source": [
        "**Week 3 – Classification**"
      ]
    },
    {
      "cell_type": "markdown",
      "metadata": {
        "id": "aksg23xCelGd",
        "colab_type": "text"
      },
      "source": [
        "# Setup"
      ]
    },
    {
      "cell_type": "markdown",
      "metadata": {
        "id": "PK3a3ys5elGe",
        "colab_type": "text"
      },
      "source": [
        "First, let's make sure this notebook works well in both python 2 and 3, import a few common modules, ensure MatplotLib plots figures inline and prepare a function to save the figures:"
      ]
    },
    {
      "cell_type": "code",
      "metadata": {
        "id": "-cSh87H_elGf",
        "colab_type": "code",
        "cellView": "both",
        "trusted": true,
        "colab": {}
      },
      "source": [
        "# #@title\n",
        "# # To support both python 2 and python 3\n",
        "# from __future__ import division, print_function, unicode_literals\n",
        "\n",
        "# # Common imports\n",
        "# import numpy as np\n",
        "# import os\n",
        "\n",
        "# # to make this notebook's output stable across runs\n",
        "# np.random.seed(42)\n",
        "\n",
        "# # To plot pretty figures\n",
        "# %matplotlib inline\n",
        "# import matplotlib as mpl\n",
        "# import matplotlib.pyplot as plt\n",
        "# mpl.rc('axes', labelsize=14)\n",
        "# mpl.rc('xtick', labelsize=12)\n",
        "# mpl.rc('ytick', labelsize=12)\n",
        "\n",
        "# # Where to save the figures\n",
        "# PROJECT_ROOT_DIR = \".\"\n",
        "# CHAPTER_ID = \"classification\"\n",
        "\n",
        "# def save_fig(fig_id, tight_layout=True):\n",
        "#     path = os.path.join(PROJECT_ROOT_DIR, \"images\", CHAPTER_ID, fig_id + \".png\")\n",
        "#     print(\"Saving figure\", fig_id)\n",
        "#     if tight_layout:\n",
        "#         plt.tight_layout()\n",
        "#     plt.savefig(path, format='png', dpi=300)"
      ],
      "execution_count": 0,
      "outputs": []
    },
    {
      "cell_type": "markdown",
      "metadata": {
        "id": "g_4P0FMLelGj",
        "colab_type": "text"
      },
      "source": [
        "# MNIST"
      ]
    },
    {
      "cell_type": "markdown",
      "metadata": {
        "id": "f_AYEGmmelGj",
        "colab_type": "text"
      },
      "source": [
        "The MNIST database of handwritten digits, available from this page, has a training set of 60,000 examples, and a test set of 10,000 examples. It is a subset of a larger set available from NIST. The digits have been size-normalized and centered in a fixed-size image.\n",
        "\n",
        "Learn more about the dataset [here](http://yann.lecun.com/exdb/mnist/).\n",
        "\n",
        "\n",
        "Learn more about [OpenML](https://www.openml.org/).\n"
      ]
    },
    {
      "cell_type": "code",
      "metadata": {
        "id": "Q7nDMwlhelGn",
        "colab_type": "code",
        "trusted": true,
        "outputId": "af01d7b7-a9f4-433b-9bae-378251909dea",
        "colab": {
          "base_uri": "https://localhost:8080/",
          "height": 153
        }
      },
      "source": [
        "from sklearn.datasets import fetch_openml\n",
        "import numpy as np\n",
        "\n",
        "import matplotlib.pyplot as plt\n",
        "import matplotlib as mpl\n",
        "\n",
        "mnist = fetch_openml('mnist_784', version=1, cache=True)\n",
        "mnist.target = mnist.target.astype(np.int8) # fetch_openml() returns targets as strings\n",
        "\n",
        "mnist[\"data\"], mnist[\"target\"]"
      ],
      "execution_count": 0,
      "outputs": [
        {
          "output_type": "execute_result",
          "data": {
            "text/plain": [
              "(array([[0., 0., 0., ..., 0., 0., 0.],\n",
              "        [0., 0., 0., ..., 0., 0., 0.],\n",
              "        [0., 0., 0., ..., 0., 0., 0.],\n",
              "        ...,\n",
              "        [0., 0., 0., ..., 0., 0., 0.],\n",
              "        [0., 0., 0., ..., 0., 0., 0.],\n",
              "        [0., 0., 0., ..., 0., 0., 0.]]),\n",
              " array([5, 0, 4, ..., 4, 5, 6], dtype=int8))"
            ]
          },
          "metadata": {
            "tags": []
          },
          "execution_count": 2
        }
      ]
    },
    {
      "cell_type": "markdown",
      "metadata": {
        "id": "8RcBgP3JfPWT",
        "colab_type": "text"
      },
      "source": [
        "# What type of data object is MNIST?"
      ]
    },
    {
      "cell_type": "code",
      "metadata": {
        "id": "u-9Gn_A7fSzr",
        "colab_type": "code",
        "trusted": true,
        "outputId": "049e4b63-9895-435a-cc03-0a8b8a37394a",
        "colab": {
          "base_uri": "https://localhost:8080/",
          "height": 34
        }
      },
      "source": [
        "# How do you know? What funtion/method would tell us the type of an object? Try describe, show, try, learn, type and see which one works!\n",
        "type(mnist)"
      ],
      "execution_count": 0,
      "outputs": [
        {
          "output_type": "execute_result",
          "data": {
            "text/plain": [
              "sklearn.utils.Bunch"
            ]
          },
          "metadata": {
            "tags": []
          },
          "execution_count": 3
        }
      ]
    },
    {
      "cell_type": "markdown",
      "metadata": {
        "id": "RpEdB7vrfec9",
        "colab_type": "text"
      },
      "source": [
        "## What is MNIST data shape/dimension?"
      ]
    },
    {
      "cell_type": "code",
      "metadata": {
        "id": "Kwx5BbqZelGs",
        "colab_type": "code",
        "trusted": true,
        "outputId": "5e0b619b-b486-4ad1-d681-b7a0dd66573c",
        "colab": {
          "base_uri": "https://localhost:8080/",
          "height": 51
        }
      },
      "source": [
        "#mnist.data is a numpy array\n",
        "print(type(mnist.data))\n",
        "\n",
        "#use shape to see shape of a numpy array\n",
        "mnist.data.shape"
      ],
      "execution_count": 0,
      "outputs": [
        {
          "output_type": "stream",
          "text": [
            "<class 'numpy.ndarray'>\n"
          ],
          "name": "stdout"
        },
        {
          "output_type": "execute_result",
          "data": {
            "text/plain": [
              "(70000, 784)"
            ]
          },
          "metadata": {
            "tags": []
          },
          "execution_count": 4
        }
      ]
    },
    {
      "cell_type": "code",
      "metadata": {
        "id": "2kL8wXDYelGv",
        "colab_type": "code",
        "trusted": true,
        "outputId": "e145dd02-cd5b-479c-e7d0-b52cc9ac57e8",
        "colab": {
          "base_uri": "https://localhost:8080/",
          "height": 34
        }
      },
      "source": [
        "X, y = mnist[\"data\"], mnist[\"target\"]\n",
        "X.shape"
      ],
      "execution_count": 0,
      "outputs": [
        {
          "output_type": "execute_result",
          "data": {
            "text/plain": [
              "(70000, 784)"
            ]
          },
          "metadata": {
            "tags": []
          },
          "execution_count": 5
        }
      ]
    },
    {
      "cell_type": "code",
      "metadata": {
        "id": "RPSvHTmfelGy",
        "colab_type": "code",
        "trusted": true,
        "outputId": "e0f4bbcd-1db4-4409-b43c-834508556f1b",
        "colab": {
          "base_uri": "https://localhost:8080/",
          "height": 34
        }
      },
      "source": [
        "y.shape"
      ],
      "execution_count": 0,
      "outputs": [
        {
          "output_type": "execute_result",
          "data": {
            "text/plain": [
              "(70000,)"
            ]
          },
          "metadata": {
            "tags": []
          },
          "execution_count": 6
        }
      ]
    },
    {
      "cell_type": "markdown",
      "metadata": {
        "id": "fZ3vpPS9gA3G",
        "colab_type": "text"
      },
      "source": [
        "## Lets take a look at example of handwritings!"
      ]
    },
    {
      "cell_type": "code",
      "metadata": {
        "id": "4v_nNyEQelG_",
        "colab_type": "code",
        "trusted": true,
        "colab": {}
      },
      "source": [
        "# Define a function to plot image\n",
        "def plot_digit(data):\n",
        "    image = data.reshape(28, 28)\n",
        "    plt.imshow(image, cmap = mpl.cm.binary,#mlp (matplotlib)\n",
        "               interpolation=\"nearest\")\n",
        "    plt.axis(\"off\")"
      ],
      "execution_count": 0,
      "outputs": []
    },
    {
      "cell_type": "code",
      "metadata": {
        "id": "8IAg-o-ghc6A",
        "colab_type": "code",
        "trusted": true,
        "outputId": "33f3739d-2565-48b8-a960-4fcc0428c6c0",
        "colab": {
          "base_uri": "https://localhost:8080/",
          "height": 248
        }
      },
      "source": [
        "import matplotlib.pyplot as plt\n",
        "import matplotlib as mpl\n",
        "\n",
        "some_digit = X[35] # Index can be between 0 to 69999!\n",
        "plot_digit(some_digit)"
      ],
      "execution_count": 0,
      "outputs": [
        {
          "output_type": "display_data",
          "data": {
            "image/png": "[encoded data removed]",
            "text/plain": [
              "<Figure size 432x288 with 1 Axes>"
            ]
          },
          "metadata": {
            "tags": []
          }
        }
      ]
    },
    {
      "cell_type": "code",
      "metadata": {
        "trusted": true,
        "id": "M44aLrSr_-BL",
        "colab_type": "code",
        "outputId": "086deb64-a364-456a-9721-e6b5876edde0",
        "colab": {
          "base_uri": "https://localhost:8080/",
          "height": 700
        }
      },
      "source": [
        "def visualize_input(img, ax):\n",
        "    ax.imshow(img, cmap='gray')\n",
        "    width, height = img.shape\n",
        "    thresh = img.max()/2.5\n",
        "    for x in range(width):\n",
        "        for y in range(height):\n",
        "            ax.annotate(str(round(img[x][y],2)), xy=(y,x),\n",
        "                        horizontalalignment='center',\n",
        "                        verticalalignment='center',\n",
        "                        color='white' if img[x][y]<thresh else 'black')\n",
        "\n",
        "fig = plt.figure(figsize = (12,12)) \n",
        "ax = fig.add_subplot(111)\n",
        "visualize_input(X[35].reshape(28,28), ax)"
      ],
      "execution_count": 0,
      "outputs": [
        {
          "output_type": "display_data",
          "data": {
            "image/png": "[encoded data removed]",
            "text/plain": [
              "<Figure size 864x864 with 1 Axes>"
            ]
          },
          "metadata": {
            "tags": []
          }
        }
      ]
    },
    {
      "cell_type": "markdown",
      "metadata": {
        "id": "k2DcUFRMh44T",
        "colab_type": "text"
      },
      "source": [
        "# Lets see content of target variable"
      ]
    },
    {
      "cell_type": "code",
      "metadata": {
        "id": "7wxQHJQ_elHH",
        "colab_type": "code",
        "trusted": true,
        "outputId": "f5a37546-3a52-4e90-b925-b784b886ebf8",
        "colab": {
          "base_uri": "https://localhost:8080/",
          "height": 34
        }
      },
      "source": [
        "y[35]"
      ],
      "execution_count": 0,
      "outputs": [
        {
          "output_type": "execute_result",
          "data": {
            "text/plain": [
              "5"
            ]
          },
          "metadata": {
            "tags": []
          },
          "execution_count": 10
        }
      ]
    },
    {
      "cell_type": "markdown",
      "metadata": {
        "id": "ZsTw17XKh_4f",
        "colab_type": "text"
      },
      "source": [
        "# Split dataset to train and test"
      ]
    },
    {
      "cell_type": "code",
      "metadata": {
        "id": "aFUh14s2elHJ",
        "colab_type": "code",
        "trusted": true,
        "colab": {}
      },
      "source": [
        "# Write a code to split your dataset into 80/20 dataset\n",
        "from sklearn.model_selection import train_test_split\n",
        "\n",
        "X_train, X_test, y_train, y_test = train_test_split(X,y,test_size= 0.2)"
      ],
      "execution_count": 0,
      "outputs": []
    },
    {
      "cell_type": "markdown",
      "metadata": {
        "id": "IOZy_2_YiqHr",
        "colab_type": "text"
      },
      "source": [
        "### Verify data dimension"
      ]
    },
    {
      "cell_type": "code",
      "metadata": {
        "id": "76xI13IDelHM",
        "colab_type": "code",
        "trusted": true,
        "outputId": "69db8786-d30c-4b98-9469-d8a5ad7159ed",
        "colab": {
          "base_uri": "https://localhost:8080/",
          "height": 34
        }
      },
      "source": [
        "X_train.shape, X_test.shape, y_train.shape, y_test.shape\n"
      ],
      "execution_count": 0,
      "outputs": [
        {
          "output_type": "execute_result",
          "data": {
            "text/plain": [
              "((56000, 784), (14000, 784), (56000,), (14000,))"
            ]
          },
          "metadata": {
            "tags": []
          },
          "execution_count": 12
        }
      ]
    },
    {
      "cell_type": "markdown",
      "metadata": {
        "id": "s4WEnUl2elHO",
        "colab_type": "text"
      },
      "source": [
        "# Binary classifier\n",
        "\n",
        "###Predict if an image is 5 or not."
      ]
    },
    {
      "cell_type": "code",
      "metadata": {
        "id": "ICnhpmF1elHP",
        "colab_type": "code",
        "trusted": true,
        "colab": {}
      },
      "source": [
        "# if y_train value equals 5, it replaces it with true otherwise false\n",
        "y_train_5 = (y_train == 5)\n",
        "y_test_5 = (y_test == 5)"
      ],
      "execution_count": 0,
      "outputs": []
    },
    {
      "cell_type": "code",
      "metadata": {
        "id": "VmMxpIiPTFAx",
        "colab_type": "code",
        "trusted": true,
        "colab": {}
      },
      "source": [
        "from sklearn import preprocessing\n",
        "le = preprocessing.LabelEncoder()\n",
        "le.fit(y_train_5)\n",
        "y_train_5 = le.transform(y_train_5)\n",
        "y_test_5 = le.transform(y_test_5)"
      ],
      "execution_count": 0,
      "outputs": []
    },
    {
      "cell_type": "markdown",
      "metadata": {
        "id": "IvLrlO2helHR",
        "colab_type": "text"
      },
      "source": [
        "**Note**: a few hyperparameters will have a different default value in future versions of Scikit-Learn, so a warning is issued if you do not set them explicitly. This is why we set `max_iter=5` and `tol=-np.infty`, to get the same results as in the book, while avoiding the warnings."
      ]
    },
    {
      "cell_type": "code",
      "metadata": {
        "id": "eeshrrZpelHT",
        "colab_type": "code",
        "trusted": true,
        "outputId": "feb84656-f1ec-41cc-92d4-f390603ffcac",
        "colab": {
          "base_uri": "https://localhost:8080/",
          "height": 119
        }
      },
      "source": [
        "from sklearn.linear_model import SGDClassifier\n",
        "\n",
        "#sgd stands for stochastic gradient descent (read more about GSD https://medium.com/@lachlanmiller_52885/machine-learning-week-1-cost-function-gradient-descent-and-univariate-linear-regression-8f5fe69815fd)\n",
        "#clf stands for classifier\n",
        "sgd_clf = SGDClassifier(max_iter=5, tol=-np.infty, random_state=42)\n",
        "sgd_clf.fit(X_train, y_train_5)\n"
      ],
      "execution_count": 0,
      "outputs": [
        {
          "output_type": "execute_result",
          "data": {
            "text/plain": [
              "SGDClassifier(alpha=0.0001, average=False, class_weight=None,\n",
              "              early_stopping=False, epsilon=0.1, eta0=0.0, fit_intercept=True,\n",
              "              l1_ratio=0.15, learning_rate='optimal', loss='hinge', max_iter=5,\n",
              "              n_iter_no_change=5, n_jobs=None, penalty='l2', power_t=0.5,\n",
              "              random_state=42, shuffle=True, tol=-inf, validation_fraction=0.1,\n",
              "              verbose=0, warm_start=False)"
            ]
          },
          "metadata": {
            "tags": []
          },
          "execution_count": 15
        }
      ]
    },
    {
      "cell_type": "markdown",
      "metadata": {
        "id": "934AgKnXPTTS",
        "colab_type": "text"
      },
      "source": [
        "### We just built a model. Now lets pass a single image to it and see the response"
      ]
    },
    {
      "cell_type": "code",
      "metadata": {
        "id": "M5zk1WVUOm3J",
        "colab_type": "code",
        "trusted": true,
        "outputId": "9c7cc109-7a9f-433e-c628-8321630f6dbf",
        "colab": {
          "base_uri": "https://localhost:8080/",
          "height": 986
        }
      },
      "source": [
        "# See the value of 11th image and corresponding label\n",
        "print(y_train_5[35])\n",
        "print(X[35])"
      ],
      "execution_count": 0,
      "outputs": [
        {
          "output_type": "stream",
          "text": [
            "0\n",
            "[  0.   0.   0.   0.   0.   0.   0.   0.   0.   0.   0.   0.   0.   0.\n",
            "   0.   0.   0.   0.   0.   0.   0.   0.   0.   0.   0.   0.   0.   0.\n",
            "   0.   0.   0.   0.   0.   0.   0.   0.   0.   0.   0.   0.   0.   0.\n",
            "   0.   0.   0.   0.   0.   0.   0.   0.   0.   0.   0.   0.   0.   0.\n",
            "   0.   0.   0.   0.   0.   0.   0.   0.   0.   0.   0.   0.   0.   0.\n",
            "   0.   0.   0.   0.   0.   0.   0.   0.   0.   0.   0.   0.   0.   0.\n",
            "   0.   0.   0.   0.   0.   0.   0.   0.   0.   0.   0.   0.   0.   0.\n",
            "   0.   0.   0.   0.   0.   0.   0.   0.   0.   0.   0.   0.   0.   0.\n",
            "   0.   0.   0.   0.   0.   0.   0.   0.   0.   0.   0.   0.   0.   0.\n",
            "   0.   0.   0.   0.   0.   0.   0.   0.   0.   0.   0.   0.   0.   0.\n",
            "   0.   0.   0.   0.   0.   0.   0.   0.   0.   0.   0.   0.   0.   0.\n",
            "   0.   0.   0.   0.   0.   0.   0.   0.   0.   0.   0.   0.   0.   0.\n",
            "   0.   0.   0.   0.   0.   0.   0.   0.   0.   0.   0.   0.   0.   0.\n",
            "   0.   0.   0.   0.   0.   0.  29. 141. 198. 255. 198.   0.   0.   0.\n",
            "   0.   0.   0.   0.   0.   0.   0.   0.   0.   0.   0.   0.   0.   0.\n",
            "   0.   0.   0.  86. 141. 198. 255. 255. 255. 255. 170.   0.   0.   0.\n",
            "   0.   0.   0.   0.   0.   0.   0.   0.   0.   0.   0.   0.   0.   0.\n",
            "  29. 141. 226. 255. 255. 255. 255. 198.  86.   0.   0.   0.   0.   0.\n",
            "   0.   0.   0.   0.   0.   0.   0.   0.   0.   0.   0.   0.   0.   0.\n",
            " 170. 255. 255. 170.  86.  86.   0.   0.   0.   0.   0.   0.   0.   0.\n",
            "   0.   0.   0.   0.   0.   0.   0.   0.   0.   0.   0.   0.   0. 141.\n",
            " 226. 170.  57.   0.   0.   0.   0.   0.   0.   0.   0.   0.   0.   0.\n",
            "   0.   0.   0.   0.   0.   0.   0.   0.   0.   0.   0.   0.  86. 255.\n",
            " 198.  29.   0.   0.   0.   0.   0.   0.   0.   0.   0.   0.   0.   0.\n",
            "   0.   0.   0.   0.   0.   0.   0.   0.   0.   0.   0.   0. 198. 255.\n",
            " 141.  86.  57.   0.   0.   0.   0.   0.   0.   0.   0.   0.   0.   0.\n",
            "   0.   0.   0.   0.   0.   0.   0.   0.   0.   0.   0. 170. 255. 198.\n",
            " 114. 226. 170.  29.   0.   0.   0.   0.   0.   0.   0.   0.   0.   0.\n",
            "   0.   0.   0.   0.   0.   0.   0.   0.   0.  57. 198. 255. 114.  29.\n",
            "   0. 141. 255.  29.   0.   0.   0.   0.   0.   0.   0.   0.   0.   0.\n",
            "   0.   0.   0.   0.   0.   0.   0.   0.   0. 114. 255. 114.   0.   0.\n",
            "   0. 141. 255.  29.   0.   0.   0.   0.   0.   0.   0.   0.   0.   0.\n",
            "   0.   0.   0.   0.   0.   0.   0.   0.   0.   0.  29.   0.   0.   0.\n",
            "   0. 226. 255.  29.   0.   0.   0.   0.   0.   0.   0.   0.   0.   0.\n",
            "   0.   0.   0.   0.   0.   0.   0.   0.   0.   0.   0.   0.   0.   0.\n",
            " 114. 255. 141.   0.   0.   0.   0.   0.   0.   0.   0.   0.   0.   0.\n",
            "   0.   0.   0.   0.   0.  86.   0.   0.   0.   0.   0.   0.   0. 114.\n",
            " 226. 226.  29.   0.   0.   0.   0.   0.   0.   0.   0.   0.   0.   0.\n",
            "   0.   0.   0.   0.   0. 255. 198.  86.   0.   0.   0. 141. 255. 255.\n",
            " 170.  29.   0.   0.   0.   0.   0.   0.   0.   0.   0.   0.   0.   0.\n",
            "   0.   0.   0.   0.   0. 226. 255. 226. 170. 226. 255. 255. 198.  29.\n",
            "   0.   0.   0.   0.   0.   0.   0.   0.   0.   0.   0.   0.   0.   0.\n",
            "   0.   0.   0.   0.   0.  86. 198. 255. 255. 170. 141.  57.   0.   0.\n",
            "   0.   0.   0.   0.   0.   0.   0.   0.   0.   0.   0.   0.   0.   0.\n",
            "   0.   0.   0.   0.   0.   0.   0.   0.   0.   0.   0.   0.   0.   0.\n",
            "   0.   0.   0.   0.   0.   0.   0.   0.   0.   0.   0.   0.   0.   0.\n",
            "   0.   0.   0.   0.   0.   0.   0.   0.   0.   0.   0.   0.   0.   0.\n",
            "   0.   0.   0.   0.   0.   0.   0.   0.   0.   0.   0.   0.   0.   0.\n",
            "   0.   0.   0.   0.   0.   0.   0.   0.   0.   0.   0.   0.   0.   0.\n",
            "   0.   0.   0.   0.   0.   0.   0.   0.   0.   0.   0.   0.   0.   0.\n",
            "   0.   0.   0.   0.   0.   0.   0.   0.   0.   0.   0.   0.   0.   0.\n",
            "   0.   0.   0.   0.   0.   0.   0.   0.   0.   0.   0.   0.   0.   0.\n",
            "   0.   0.   0.   0.   0.   0.   0.   0.   0.   0.   0.   0.   0.   0.\n",
            "   0.   0.   0.   0.   0.   0.   0.   0.   0.   0.   0.   0.   0.   0.\n",
            "   0.   0.   0.   0.   0.   0.   0.   0.   0.   0.   0.   0.   0.   0.\n",
            "   0.   0.   0.   0.   0.   0.   0.   0.   0.   0.   0.   0.   0.   0.]\n"
          ],
          "name": "stdout"
        }
      ]
    },
    {
      "cell_type": "markdown",
      "metadata": {
        "id": "_tLGlmRySWiT",
        "colab_type": "text"
      },
      "source": [
        "# How does  above array representing X[11] which is image of 5?"
      ]
    },
    {
      "cell_type": "code",
      "metadata": {
        "id": "b9IRniNdelHV",
        "colab_type": "code",
        "trusted": true,
        "outputId": "feb133f7-c6dd-41bf-98f9-8306057469bf",
        "colab": {
          "base_uri": "https://localhost:8080/",
          "height": 34
        }
      },
      "source": [
        "# Predict using the model\n",
        "pred = sgd_clf.predict([X[35]])\n",
        "pred[0]"
      ],
      "execution_count": 0,
      "outputs": [
        {
          "output_type": "execute_result",
          "data": {
            "text/plain": [
              "1"
            ]
          },
          "metadata": {
            "tags": []
          },
          "execution_count": 17
        }
      ]
    },
    {
      "cell_type": "markdown",
      "metadata": {
        "id": "Ojs9BVsBPtpO",
        "colab_type": "text"
      },
      "source": [
        "# Use Cross Validation Technique"
      ]
    },
    {
      "cell_type": "code",
      "metadata": {
        "id": "0cn2-SLZelHX",
        "colab_type": "code",
        "trusted": true,
        "outputId": "d634d33e-ccee-45b2-d69b-6107cc0ad3f7",
        "colab": {
          "base_uri": "https://localhost:8080/",
          "height": 34
        }
      },
      "source": [
        "from sklearn.model_selection import cross_val_score\n",
        "\n",
        "# Fit the model with CS=3\n",
        "cross_val_score(sgd_clf, X_train, y_train_5, cv=3, scoring=\"accuracy\")"
      ],
      "execution_count": 0,
      "outputs": [
        {
          "output_type": "execute_result",
          "data": {
            "text/plain": [
              "array([0.94380457, 0.93485831, 0.96780242])"
            ]
          },
          "metadata": {
            "tags": []
          },
          "execution_count": 18
        }
      ]
    },
    {
      "cell_type": "code",
      "metadata": {
        "id": "RVaTcl9_elHa",
        "colab_type": "code",
        "trusted": true,
        "outputId": "c5e151d5-775b-4959-9103-438da3cdbce1",
        "colab": {
          "base_uri": "https://localhost:8080/",
          "height": 122
        }
      },
      "source": [
        "#Above cell mimics below logic. As you see the results are the same. This cell is just for your self-study. Using previous cell is good enough in practice\n",
        "from sklearn.model_selection import StratifiedKFold\n",
        "from sklearn.base import clone\n",
        "\n",
        "skfolds = StratifiedKFold(n_splits=3, random_state=42)\n",
        "\n",
        "for train_index, test_index in skfolds.split(X_train, y_train_5):\n",
        "    clone_clf = clone(sgd_clf)\n",
        "    X_train_folds = X_train[train_index]\n",
        "    y_train_folds = (y_train_5[train_index])\n",
        "    X_test_fold = X_train[test_index]\n",
        "    y_test_fold = (y_train_5[test_index])\n",
        "\n",
        "    clone_clf.fit(X_train_folds, y_train_folds)\n",
        "    y_pred = clone_clf.predict(X_test_fold)\n",
        "    n_correct = sum(y_pred == y_test_fold)\n",
        "    print(n_correct / len(y_pred))"
      ],
      "execution_count": 0,
      "outputs": [
        {
          "output_type": "stream",
          "text": [
            "/usr/local/lib/python3.6/dist-packages/sklearn/model_selection/_split.py:296: FutureWarning: Setting a random_state has no effect since shuffle is False. This will raise an error in 0.24. You should leave random_state to its default (None), or set shuffle=True.\n",
            "  FutureWarning\n"
          ],
          "name": "stderr"
        },
        {
          "output_type": "stream",
          "text": [
            "0.943804574918305\n",
            "0.9348583061016768\n",
            "0.9678024215150541\n"
          ],
          "name": "stdout"
        }
      ]
    },
    {
      "cell_type": "code",
      "metadata": {
        "id": "k1JAC8qOelHd",
        "colab_type": "code",
        "trusted": true,
        "colab": {}
      },
      "source": [
        "#BaseEstimator is when there is no model!\n",
        "from sklearn.base import BaseEstimator\n",
        "class Never5Classifier(BaseEstimator):\n",
        "    def fit(self, X, y=None):\n",
        "        pass\n",
        "    def predict(self, X):\n",
        "        return np.zeros((len(X), 1), dtype=bool)"
      ],
      "execution_count": 0,
      "outputs": []
    },
    {
      "cell_type": "code",
      "metadata": {
        "id": "PfvfSwnuelHf",
        "colab_type": "code",
        "trusted": true,
        "outputId": "8bfe723f-025c-4ea0-ba1f-5e4cfabc7913",
        "colab": {
          "base_uri": "https://localhost:8080/",
          "height": 34
        }
      },
      "source": [
        "\n",
        "never_5_clf = Never5Classifier()\n",
        "cross_val_score(never_5_clf, X_train, y_train_5, cv=3, scoring=\"accuracy\")"
      ],
      "execution_count": 0,
      "outputs": [
        {
          "output_type": "execute_result",
          "data": {
            "text/plain": [
              "array([0.91032303, 0.91085873, 0.90817529])"
            ]
          },
          "metadata": {
            "tags": []
          },
          "execution_count": 21
        }
      ]
    },
    {
      "cell_type": "markdown",
      "metadata": {
        "id": "qcvFj0dQsRo5",
        "colab_type": "text"
      },
      "source": [
        "## As you see accuracy of base model is 90%! \n",
        "\n",
        "Can you explain it?"
      ]
    },
    {
      "cell_type": "code",
      "metadata": {
        "id": "iXiJRZLulje-",
        "colab_type": "code",
        "trusted": true,
        "outputId": "df641ba0-8ce7-4d30-d3c2-603b25274063",
        "colab": {
          "base_uri": "https://localhost:8080/",
          "height": 34
        }
      },
      "source": [
        "# Look at number of times 5 is repeated in the dataset!\n",
        "import numpy as np\n",
        "\n",
        "np.unique(y_train_5, return_counts=True)\n",
        "\n",
        "# As expected, 5 is repeated only 10% of the times. So, even if we never detect it, stil we will have 90% accuracy!\n"
      ],
      "execution_count": 0,
      "outputs": [
        {
          "output_type": "execute_result",
          "data": {
            "text/plain": [
              "(array([0, 1]), array([50948,  5052]))"
            ]
          },
          "metadata": {
            "tags": []
          },
          "execution_count": 22
        }
      ]
    },
    {
      "cell_type": "code",
      "metadata": {
        "id": "4Tj5EXuHlWiE",
        "colab_type": "code",
        "trusted": true,
        "outputId": "fa5c2510-ce45-4501-beeb-0dbeca0dbeed",
        "colab": {
          "base_uri": "https://localhost:8080/",
          "height": 34
        }
      },
      "source": [
        "np.unique(never_5_clf.predict(X_train), return_counts = True)"
      ],
      "execution_count": 0,
      "outputs": [
        {
          "output_type": "execute_result",
          "data": {
            "text/plain": [
              "(array([False]), array([56000]))"
            ]
          },
          "metadata": {
            "tags": []
          },
          "execution_count": 23
        }
      ]
    },
    {
      "cell_type": "code",
      "metadata": {
        "id": "yapwZfN5elHj",
        "colab_type": "code",
        "trusted": true,
        "colab": {}
      },
      "source": [
        "from sklearn.model_selection import cross_val_predict\n",
        "\n",
        "y_train_pred = cross_val_predict(sgd_clf, X_train, y_train_5, cv=3)"
      ],
      "execution_count": 0,
      "outputs": []
    },
    {
      "cell_type": "markdown",
      "metadata": {
        "id": "77pJty-p_-CR",
        "colab_type": "text"
      },
      "source": [
        "#### Assignment 3 :Train 3 different models (choose which 3 models you want to pick). Test them both on binary classification (5 and not 5) and also multi-class classification (1 to 10)."
      ]
    },
    {
      "cell_type": "code",
      "metadata": {
        "trusted": true,
        "id": "v6I2toOD_-CS",
        "colab_type": "code",
        "colab": {}
      },
      "source": [
        "# GridSearchCV\n",
        "from sklearn.model_selection import GridSearchCV\n",
        "from sklearn.model_selection import RandomizedSearchCV\n",
        "\n",
        "# Models\n",
        "from sklearn.linear_model import LogisticRegression #logistic regression\n",
        "from sklearn.ensemble import RandomForestClassifier #Random Forest\n",
        "from sklearn.neighbors import KNeighborsClassifier #KNN\n",
        "from sklearn.metrics import accuracy_score"
      ],
      "execution_count": 0,
      "outputs": []
    },
    {
      "cell_type": "markdown",
      "metadata": {
        "id": "EF20RWE6_-CW",
        "colab_type": "text"
      },
      "source": [
        "#### 1. KNN Classifier"
      ]
    },
    {
      "cell_type": "code",
      "metadata": {
        "trusted": true,
        "id": "sNPXW1dM_-CY",
        "colab_type": "code",
        "outputId": "7ca00750-84fb-4d20-8913-21abe0acc93f",
        "colab": {
          "base_uri": "https://localhost:8080/",
          "height": 68
        }
      },
      "source": [
        "knn_clf = KNeighborsClassifier(leaf_size=30, n_neighbors=50)\n",
        "knn_clf.fit(X_train, y_train_5)"
      ],
      "execution_count": 0,
      "outputs": [
        {
          "output_type": "execute_result",
          "data": {
            "text/plain": [
              "KNeighborsClassifier(algorithm='auto', leaf_size=30, metric='minkowski',\n",
              "                     metric_params=None, n_jobs=None, n_neighbors=50, p=2,\n",
              "                     weights='uniform')"
            ]
          },
          "metadata": {
            "tags": []
          },
          "execution_count": 26
        }
      ]
    },
    {
      "cell_type": "code",
      "metadata": {
        "trusted": true,
        "id": "GStxdggz_-Ci",
        "colab_type": "code",
        "outputId": "9f3f89d1-9a21-42ff-c6f9-29a71f0123b5",
        "colab": {
          "base_uri": "https://localhost:8080/",
          "height": 34
        }
      },
      "source": [
        "y_pred_knn_tr = knn_clf.predict(X_train)\n",
        "accuracy_score(y_train_5, y_pred_knn_tr)"
      ],
      "execution_count": 0,
      "outputs": [
        {
          "output_type": "execute_result",
          "data": {
            "text/plain": [
              "0.9906964285714286"
            ]
          },
          "metadata": {
            "tags": []
          },
          "execution_count": 27
        }
      ]
    },
    {
      "cell_type": "code",
      "metadata": {
        "trusted": true,
        "id": "28cBrc1o_-Cm",
        "colab_type": "code",
        "outputId": "1dae46ad-2ce7-42b8-845b-b5c38aae8345",
        "colab": {
          "base_uri": "https://localhost:8080/",
          "height": 34
        }
      },
      "source": [
        "#predict the test set\n",
        "y_pred_knn_te = knn_clf.predict(X_test)\n",
        "accuracy_score(y_test_5, y_pred_knn_te)"
      ],
      "execution_count": 0,
      "outputs": [
        {
          "output_type": "execute_result",
          "data": {
            "text/plain": [
              "0.9915714285714285"
            ]
          },
          "metadata": {
            "tags": []
          },
          "execution_count": 28
        }
      ]
    },
    {
      "cell_type": "markdown",
      "metadata": {
        "id": "oTVIiiqe_-Cq",
        "colab_type": "text"
      },
      "source": [
        "#### 2. Random Forest Classifier"
      ]
    },
    {
      "cell_type": "code",
      "metadata": {
        "trusted": true,
        "id": "hNP6KTj-_-Cr",
        "colab_type": "code",
        "outputId": "cf437906-27fb-4354-c7fe-94fad0dad638",
        "colab": {
          "base_uri": "https://localhost:8080/",
          "height": 153
        }
      },
      "source": [
        "rnf_clf = RandomForestClassifier(n_estimators=1000,random_state = 42)\n",
        "rnf_clf.fit(X_train, y_train_5)"
      ],
      "execution_count": 0,
      "outputs": [
        {
          "output_type": "execute_result",
          "data": {
            "text/plain": [
              "RandomForestClassifier(bootstrap=True, ccp_alpha=0.0, class_weight=None,\n",
              "                       criterion='gini', max_depth=None, max_features='auto',\n",
              "                       max_leaf_nodes=None, max_samples=None,\n",
              "                       min_impurity_decrease=0.0, min_impurity_split=None,\n",
              "                       min_samples_leaf=1, min_samples_split=2,\n",
              "                       min_weight_fraction_leaf=0.0, n_estimators=1000,\n",
              "                       n_jobs=None, oob_score=False, random_state=42, verbose=0,\n",
              "                       warm_start=False)"
            ]
          },
          "metadata": {
            "tags": []
          },
          "execution_count": 29
        }
      ]
    },
    {
      "cell_type": "code",
      "metadata": {
        "trusted": true,
        "id": "t8w0qb1c_-Cv",
        "colab_type": "code",
        "outputId": "c917166f-7483-478e-b74c-42e25f2a5469",
        "colab": {
          "base_uri": "https://localhost:8080/",
          "height": 34
        }
      },
      "source": [
        "y_pred_rnf_tr = rnf_clf.predict(X_train)\n",
        "accuracy_score(y_train_5, y_pred_rnf_tr)"
      ],
      "execution_count": 0,
      "outputs": [
        {
          "output_type": "execute_result",
          "data": {
            "text/plain": [
              "1.0"
            ]
          },
          "metadata": {
            "tags": []
          },
          "execution_count": 30
        }
      ]
    },
    {
      "cell_type": "code",
      "metadata": {
        "trusted": true,
        "id": "nd7zk9My_-Cy",
        "colab_type": "code",
        "outputId": "bc21683d-e89e-4348-8f0a-2acfc41f1fad",
        "colab": {
          "base_uri": "https://localhost:8080/",
          "height": 34
        }
      },
      "source": [
        "#predict the test set\n",
        "y_pred_rnf_te = rnf_clf.predict(X_test)\n",
        "accuracy_score(y_test_5, y_pred_rnf_te)"
      ],
      "execution_count": 0,
      "outputs": [
        {
          "output_type": "execute_result",
          "data": {
            "text/plain": [
              "0.9893571428571428"
            ]
          },
          "metadata": {
            "tags": []
          },
          "execution_count": 31
        }
      ]
    },
    {
      "cell_type": "markdown",
      "metadata": {
        "id": "sW-o7WFW_-C4",
        "colab_type": "text"
      },
      "source": [
        "#### 3. Logistic Regression"
      ]
    },
    {
      "cell_type": "code",
      "metadata": {
        "trusted": true,
        "id": "CxQ1blr2_-C5",
        "colab_type": "code",
        "outputId": "47288abc-c02a-43c4-88fd-e2ed171a9279",
        "colab": {
          "base_uri": "https://localhost:8080/",
          "height": 102
        }
      },
      "source": [
        "import warnings\n",
        "warnings.filterwarnings(\"ignore\")\n",
        "Log_Classifier = LogisticRegression(C= 100, random_state = 42)\n",
        "Log_Classifier.fit(X_train, y_train_5)"
      ],
      "execution_count": 0,
      "outputs": [
        {
          "output_type": "execute_result",
          "data": {
            "text/plain": [
              "LogisticRegression(C=100, class_weight=None, dual=False, fit_intercept=True,\n",
              "                   intercept_scaling=1, l1_ratio=None, max_iter=100,\n",
              "                   multi_class='auto', n_jobs=None, penalty='l2',\n",
              "                   random_state=42, solver='lbfgs', tol=0.0001, verbose=0,\n",
              "                   warm_start=False)"
            ]
          },
          "metadata": {
            "tags": []
          },
          "execution_count": 32
        }
      ]
    },
    {
      "cell_type": "code",
      "metadata": {
        "trusted": true,
        "id": "WSxDl7di_-C7",
        "colab_type": "code",
        "outputId": "89622acd-44f4-4098-a085-c7a496b1e911",
        "colab": {
          "base_uri": "https://localhost:8080/",
          "height": 34
        }
      },
      "source": [
        "y_pred_log_tr = Log_Classifier.predict(X_train)\n",
        "accuracy_score(y_train_5, y_pred_log_tr)"
      ],
      "execution_count": 0,
      "outputs": [
        {
          "output_type": "execute_result",
          "data": {
            "text/plain": [
              "0.97775"
            ]
          },
          "metadata": {
            "tags": []
          },
          "execution_count": 33
        }
      ]
    },
    {
      "cell_type": "code",
      "metadata": {
        "trusted": true,
        "id": "jLwXQ8_h_-C9",
        "colab_type": "code",
        "outputId": "1edb9bfa-adab-454a-c517-4be7b9789bb3",
        "colab": {
          "base_uri": "https://localhost:8080/",
          "height": 34
        }
      },
      "source": [
        "#predict the test set\n",
        "y_pred_log_te = Log_Classifier.predict(X_test)\n",
        "accuracy_score(y_test_5, y_pred_log_te)"
      ],
      "execution_count": 0,
      "outputs": [
        {
          "output_type": "execute_result",
          "data": {
            "text/plain": [
              "0.9762857142857143"
            ]
          },
          "metadata": {
            "tags": []
          },
          "execution_count": 34
        }
      ]
    },
    {
      "cell_type": "markdown",
      "metadata": {
        "id": "ccEt-ESH_-DA",
        "colab_type": "text"
      },
      "source": [
        "Using Cross Validation (Similar to SGD Classifier)"
      ]
    },
    {
      "cell_type": "code",
      "metadata": {
        "trusted": true,
        "id": "vsQhFZO8_-DC",
        "colab_type": "code",
        "outputId": "1e758932-a75e-4e8e-fbab-46774394aee4",
        "colab": {
          "base_uri": "https://localhost:8080/",
          "height": 68
        }
      },
      "source": [
        "# KNN\n",
        "skfolds = StratifiedKFold(n_splits=3, random_state=42)\n",
        "\n",
        "for train_index, test_index in skfolds.split(X_train, y_train_5):\n",
        "    X_train_folds = X_train[train_index]\n",
        "    y_train_folds = (y_train_5[train_index])\n",
        "    X_test_fold = X_train[test_index]\n",
        "    y_test_fold = (y_train_5[test_index])\n",
        "\n",
        "    knn_clf.fit(X_train_folds, y_train_folds)\n",
        "    y_pred_knn = knn_clf.predict(X_test_fold)\n",
        "    n_correct = sum(y_pred_knn == y_test_fold)\n",
        "    print(n_correct / len(y_pred_knn))"
      ],
      "execution_count": 0,
      "outputs": [
        {
          "output_type": "stream",
          "text": [
            "0.9895001874966518\n",
            "0.9879466438099319\n",
            "0.989713918354227\n"
          ],
          "name": "stdout"
        }
      ]
    },
    {
      "cell_type": "markdown",
      "metadata": {
        "id": "pP9hOinI_-DH",
        "colab_type": "text"
      },
      "source": [
        "Cross Val Prediction for Precision and Recall"
      ]
    },
    {
      "cell_type": "code",
      "metadata": {
        "trusted": true,
        "id": "Uu-t8Mnz_-DL",
        "colab_type": "code",
        "colab": {}
      },
      "source": [
        "y_pred_knn_tr = cross_val_predict(knn_clf, X_train, y_train_5, cv=3)"
      ],
      "execution_count": 0,
      "outputs": []
    },
    {
      "cell_type": "code",
      "metadata": {
        "trusted": true,
        "id": "LW0zexah_-DO",
        "colab_type": "code",
        "outputId": "83aa819f-f038-4b76-e7e6-3739d41f5593",
        "colab": {
          "base_uri": "https://localhost:8080/",
          "height": 68
        }
      },
      "source": [
        "# Random Forest\n",
        "skfolds = StratifiedKFold(n_splits=3, random_state=42)\n",
        "\n",
        "for train_index, test_index in skfolds.split(X_train, y_train_5):\n",
        "    X_train_folds = X_train[train_index]\n",
        "    y_train_folds = (y_train_5[train_index])\n",
        "    X_test_fold = X_train[test_index]\n",
        "    y_test_fold = (y_train_5[test_index])\n",
        "\n",
        "    rnf_clf.fit(X_train_folds, y_train_folds)\n",
        "    y_pred_rnf = rnf_clf.predict(X_test_fold)\n",
        "    n_correct = sum(y_pred_rnf == y_test_fold)\n",
        "    print(n_correct / len(y_pred_rnf))"
      ],
      "execution_count": 0,
      "outputs": [
        {
          "output_type": "stream",
          "text": [
            "0.9884287780575347\n",
            "0.9861788182353887\n",
            "0.98816029143898\n"
          ],
          "name": "stdout"
        }
      ]
    },
    {
      "cell_type": "code",
      "metadata": {
        "trusted": true,
        "id": "O-gdigwy_-DR",
        "colab_type": "code",
        "colab": {}
      },
      "source": [
        "# Cross Val Prediction for Precision and Recall\n",
        "y_pred_rnf_tr = cross_val_predict(rnf_clf, X_train, y_train_5, cv=3)"
      ],
      "execution_count": 0,
      "outputs": []
    },
    {
      "cell_type": "code",
      "metadata": {
        "trusted": true,
        "id": "xkFvTOK0_-DX",
        "colab_type": "code",
        "outputId": "8cbe3aae-b219-4a63-99f7-441580054c35",
        "colab": {
          "base_uri": "https://localhost:8080/",
          "height": 68
        }
      },
      "source": [
        "# Logistic Regression\n",
        "skfolds = StratifiedKFold(n_splits=3, random_state=42)\n",
        "\n",
        "for train_index, test_index in skfolds.split(X_train, y_train_5):\n",
        "    X_train_folds = X_train[train_index]\n",
        "    y_train_folds = (y_train_5[train_index])\n",
        "    X_test_fold = X_train[test_index]\n",
        "    y_test_fold = (y_train_5[test_index])\n",
        "\n",
        "    Log_Classifier.fit(X_train_folds, y_train_folds)\n",
        "    y_pred_log = Log_Classifier.predict(X_test_fold)\n",
        "    n_correct = sum(y_pred_log == y_test_fold)\n",
        "    print(n_correct / len(y_pred_log))"
      ],
      "execution_count": 0,
      "outputs": [
        {
          "output_type": "stream",
          "text": [
            "0.9755182943161729\n",
            "0.9718755022231745\n",
            "0.9741240758598522\n"
          ],
          "name": "stdout"
        }
      ]
    },
    {
      "cell_type": "code",
      "metadata": {
        "trusted": true,
        "id": "p_JQM03h_-DZ",
        "colab_type": "code",
        "colab": {}
      },
      "source": [
        "# Cross Val Prediction for Precision and Recall\n",
        "y_pred_log_tr = cross_val_predict(Log_Classifier, X_train, y_train_5, cv=3)"
      ],
      "execution_count": 0,
      "outputs": []
    },
    {
      "cell_type": "markdown",
      "metadata": {
        "id": "E6MiRIj48gp-",
        "colab_type": "text"
      },
      "source": [
        "#A thought for your brain:\n",
        "\n",
        "#### Look at below evaluation results (confusion matrix, Precision and Recall values) and record them in your book. Then change the value of cv in above cell. Either increase or decrese cv and calculate precision and recall again. What do you observe?\n",
        "\n",
        "#### Can you explain it?"
      ]
    },
    {
      "cell_type": "code",
      "metadata": {
        "id": "W8m3_m7ielHm",
        "colab_type": "code",
        "trusted": true,
        "outputId": "4109bee0-47e8-4e55-bc37-2cd08765dbee",
        "colab": {
          "base_uri": "https://localhost:8080/",
          "height": 51
        }
      },
      "source": [
        "from sklearn.metrics import confusion_matrix\n",
        "\n",
        "confusion_matrix(y_train_5, y_train_pred)\n",
        "# Rows are model predictions (0,1)\n",
        "# Cols are actual y (0,1)"
      ],
      "execution_count": 0,
      "outputs": [
        {
          "output_type": "execute_result",
          "data": {
            "text/plain": [
              "array([[48977,  1971],\n",
              "       [  895,  4157]])"
            ]
          },
          "metadata": {
            "tags": []
          },
          "execution_count": 41
        }
      ]
    },
    {
      "cell_type": "code",
      "metadata": {
        "id": "EXUMMPPXelHn",
        "colab_type": "code",
        "trusted": true,
        "colab": {}
      },
      "source": [
        "y_train_perfect_predictions = y_train_5"
      ],
      "execution_count": 0,
      "outputs": []
    },
    {
      "cell_type": "markdown",
      "metadata": {
        "id": "aXiPSNZa0U7Q",
        "colab_type": "text"
      },
      "source": [
        "# Too good to believe model!!!"
      ]
    },
    {
      "cell_type": "code",
      "metadata": {
        "id": "gkczIKQEelHq",
        "colab_type": "code",
        "trusted": true,
        "outputId": "28a763b1-924a-43d1-9416-082cb52e39ec",
        "colab": {
          "base_uri": "https://localhost:8080/",
          "height": 51
        }
      },
      "source": [
        "confusion_matrix(y_train_perfect_predictions,y_train_5)"
      ],
      "execution_count": 0,
      "outputs": [
        {
          "output_type": "execute_result",
          "data": {
            "text/plain": [
              "array([[50948,     0],\n",
              "       [    0,  5052]])"
            ]
          },
          "metadata": {
            "tags": []
          },
          "execution_count": 43
        }
      ]
    },
    {
      "cell_type": "markdown",
      "metadata": {
        "id": "p-0rop3R1aYm",
        "colab_type": "text"
      },
      "source": [
        "# Precision of all 4 models!"
      ]
    },
    {
      "cell_type": "code",
      "metadata": {
        "id": "taW48oHselHt",
        "colab_type": "code",
        "trusted": true,
        "outputId": "29db121a-350f-4d3a-9eea-c95e3d3c79bc",
        "colab": {
          "base_uri": "https://localhost:8080/",
          "height": 34
        }
      },
      "source": [
        "#SGD Classifier\n",
        "from sklearn.metrics import precision_score, recall_score\n",
        "\n",
        "precision_score(y_train_5, y_train_pred)"
      ],
      "execution_count": 0,
      "outputs": [
        {
          "output_type": "execute_result",
          "data": {
            "text/plain": [
              "0.6783616187989556"
            ]
          },
          "metadata": {
            "tags": []
          },
          "execution_count": 44
        }
      ]
    },
    {
      "cell_type": "code",
      "metadata": {
        "trusted": true,
        "id": "Xe1WLOGH_-Dx",
        "colab_type": "code",
        "outputId": "86e95b23-3a47-4808-971f-148b2bfc34c8",
        "colab": {
          "base_uri": "https://localhost:8080/",
          "height": 34
        }
      },
      "source": [
        "#KNN\n",
        "precision_score(y_train_5, y_pred_knn_tr)"
      ],
      "execution_count": 0,
      "outputs": [
        {
          "output_type": "execute_result",
          "data": {
            "text/plain": [
              "0.9715317612067134"
            ]
          },
          "metadata": {
            "tags": []
          },
          "execution_count": 45
        }
      ]
    },
    {
      "cell_type": "code",
      "metadata": {
        "trusted": true,
        "id": "PFdNF5wv_-D0",
        "colab_type": "code",
        "outputId": "be6df946-00ad-45d3-b75f-3facdb2a0dc0",
        "colab": {
          "base_uri": "https://localhost:8080/",
          "height": 34
        }
      },
      "source": [
        "#Random Forest\n",
        "precision_score(y_train_5, y_pred_rnf_tr)"
      ],
      "execution_count": 0,
      "outputs": [
        {
          "output_type": "execute_result",
          "data": {
            "text/plain": [
              "0.9918717543463536"
            ]
          },
          "metadata": {
            "tags": []
          },
          "execution_count": 46
        }
      ]
    },
    {
      "cell_type": "code",
      "metadata": {
        "trusted": true,
        "id": "EwGqpxnq_-D3",
        "colab_type": "code",
        "outputId": "262ac82e-c3a0-4654-9320-97a2f957bf0e",
        "colab": {
          "base_uri": "https://localhost:8080/",
          "height": 34
        }
      },
      "source": [
        "#Logistic Regression\n",
        "precision_score(y_train_5, y_pred_log_tr)"
      ],
      "execution_count": 0,
      "outputs": [
        {
          "output_type": "execute_result",
          "data": {
            "text/plain": [
              "0.890145747226452"
            ]
          },
          "metadata": {
            "tags": []
          },
          "execution_count": 47
        }
      ]
    },
    {
      "cell_type": "markdown",
      "metadata": {
        "id": "kZIPoibm1dgk",
        "colab_type": "text"
      },
      "source": [
        "#  Recall of our 4 model"
      ]
    },
    {
      "cell_type": "code",
      "metadata": {
        "id": "AfRIa7jkelHz",
        "colab_type": "code",
        "trusted": true,
        "outputId": "ebf4debd-8967-4f0c-a5ec-7f8c386ca24c",
        "colab": {
          "base_uri": "https://localhost:8080/",
          "height": 34
        }
      },
      "source": [
        "#SGD\n",
        "recall_score(y_train_5, y_train_pred)"
      ],
      "execution_count": 0,
      "outputs": [
        {
          "output_type": "execute_result",
          "data": {
            "text/plain": [
              "0.8228424386381631"
            ]
          },
          "metadata": {
            "tags": []
          },
          "execution_count": 48
        }
      ]
    },
    {
      "cell_type": "code",
      "metadata": {
        "trusted": true,
        "id": "jm_uQQhZ_-D8",
        "colab_type": "code",
        "outputId": "407a76e8-0f38-4342-f939-5a17d7f4955f",
        "colab": {
          "base_uri": "https://localhost:8080/",
          "height": 34
        }
      },
      "source": [
        "#KNN\n",
        "recall_score(y_train_5, y_pred_knn_tr)"
      ],
      "execution_count": 0,
      "outputs": [
        {
          "output_type": "execute_result",
          "data": {
            "text/plain": [
              "0.9051860649247823"
            ]
          },
          "metadata": {
            "tags": []
          },
          "execution_count": 49
        }
      ]
    },
    {
      "cell_type": "code",
      "metadata": {
        "trusted": true,
        "id": "q7seKvtz_-D9",
        "colab_type": "code",
        "outputId": "eca182bc-f087-4a63-f45b-f629f885b9cf",
        "colab": {
          "base_uri": "https://localhost:8080/",
          "height": 34
        }
      },
      "source": [
        "#Random Forest\n",
        "recall_score(y_train_5, y_pred_rnf_tr)"
      ],
      "execution_count": 0,
      "outputs": [
        {
          "output_type": "execute_result",
          "data": {
            "text/plain": [
              "0.869556611243072"
            ]
          },
          "metadata": {
            "tags": []
          },
          "execution_count": 50
        }
      ]
    },
    {
      "cell_type": "code",
      "metadata": {
        "trusted": true,
        "id": "N9Eoabl9_-D_",
        "colab_type": "code",
        "outputId": "ca9c6d9e-8df4-4a2b-9f63-a96880386970",
        "colab": {
          "base_uri": "https://localhost:8080/",
          "height": 34
        }
      },
      "source": [
        "#Logistic Regression\n",
        "recall_score(y_train_5, y_pred_log_tr)"
      ],
      "execution_count": 0,
      "outputs": [
        {
          "output_type": "execute_result",
          "data": {
            "text/plain": [
              "0.8099762470308789"
            ]
          },
          "metadata": {
            "tags": []
          },
          "execution_count": 51
        }
      ]
    },
    {
      "cell_type": "markdown",
      "metadata": {
        "id": "bbQVktKM1ga0",
        "colab_type": "text"
      },
      "source": [
        "# F1 score of 4 models"
      ]
    },
    {
      "cell_type": "code",
      "metadata": {
        "id": "GOJy3vPqelH5",
        "colab_type": "code",
        "trusted": true,
        "outputId": "20e38050-1352-4980-d26b-e72b1f0c2eb9",
        "colab": {
          "base_uri": "https://localhost:8080/",
          "height": 34
        }
      },
      "source": [
        "#SGD\n",
        "from sklearn.metrics import f1_score\n",
        "f1_score(y_train_5, y_train_pred)\n",
        "\n",
        "# As you see, F1 score penalizes 91% compared to 59% recall"
      ],
      "execution_count": 0,
      "outputs": [
        {
          "output_type": "execute_result",
          "data": {
            "text/plain": [
              "0.7436493738819321"
            ]
          },
          "metadata": {
            "tags": []
          },
          "execution_count": 52
        }
      ]
    },
    {
      "cell_type": "code",
      "metadata": {
        "trusted": true,
        "id": "LB3QrIp2_-EH",
        "colab_type": "code",
        "outputId": "8cec195f-0ec1-48bc-e763-0a030ac5d3dc",
        "colab": {
          "base_uri": "https://localhost:8080/",
          "height": 34
        }
      },
      "source": [
        "#KNN\n",
        "f1_score(y_train_5, y_pred_knn_tr)"
      ],
      "execution_count": 0,
      "outputs": [
        {
          "output_type": "execute_result",
          "data": {
            "text/plain": [
              "0.9371861871093349"
            ]
          },
          "metadata": {
            "tags": []
          },
          "execution_count": 53
        }
      ]
    },
    {
      "cell_type": "code",
      "metadata": {
        "trusted": true,
        "id": "SvRHE3lY_-EK",
        "colab_type": "code",
        "outputId": "6a9834b1-a0b4-441e-fcc8-6353fc3fcc84",
        "colab": {
          "base_uri": "https://localhost:8080/",
          "height": 34
        }
      },
      "source": [
        "#Random Forest\n",
        "f1_score(y_train_5, y_pred_rnf_tr)"
      ],
      "execution_count": 0,
      "outputs": [
        {
          "output_type": "execute_result",
          "data": {
            "text/plain": [
              "0.9266954962556693"
            ]
          },
          "metadata": {
            "tags": []
          },
          "execution_count": 54
        }
      ]
    },
    {
      "cell_type": "code",
      "metadata": {
        "trusted": true,
        "id": "wMXQGjvk_-EM",
        "colab_type": "code",
        "outputId": "71b2a158-727c-402a-9de2-adad089b1737",
        "colab": {
          "base_uri": "https://localhost:8080/",
          "height": 34
        }
      },
      "source": [
        "#Logistic Regression\n",
        "f1_score(y_train_5, y_pred_log_tr)"
      ],
      "execution_count": 0,
      "outputs": [
        {
          "output_type": "execute_result",
          "data": {
            "text/plain": [
              "0.848170794901026"
            ]
          },
          "metadata": {
            "tags": []
          },
          "execution_count": 55
        }
      ]
    },
    {
      "cell_type": "markdown",
      "metadata": {
        "id": "pwm_qIKF1u_r",
        "colab_type": "text"
      },
      "source": [
        "#What is best Precision Recall Ratio?"
      ]
    },
    {
      "cell_type": "code",
      "metadata": {
        "id": "gveM2XkCelH9",
        "colab_type": "code",
        "trusted": true,
        "outputId": "1c3f8d5d-5f37-490f-f5a0-475df9bfc3cd",
        "colab": {
          "base_uri": "https://localhost:8080/",
          "height": 34
        }
      },
      "source": [
        "# \n",
        "y_scores = sgd_clf.decision_function([some_digit])\n",
        "y_scores"
      ],
      "execution_count": 0,
      "outputs": [
        {
          "output_type": "execute_result",
          "data": {
            "text/plain": [
              "array([28784.81023749])"
            ]
          },
          "metadata": {
            "tags": []
          },
          "execution_count": 56
        }
      ]
    },
    {
      "cell_type": "code",
      "metadata": {
        "id": "tAOK6AAtelIA",
        "colab_type": "code",
        "trusted": true,
        "colab": {}
      },
      "source": [
        "threshold = 0\n",
        "y_some_digit_pred = (y_scores > threshold)"
      ],
      "execution_count": 0,
      "outputs": []
    },
    {
      "cell_type": "code",
      "metadata": {
        "id": "2489GhbrelIC",
        "colab_type": "code",
        "trusted": true,
        "outputId": "0d2387ec-82dd-41a8-90ee-45a9fa62098d",
        "colab": {
          "base_uri": "https://localhost:8080/",
          "height": 34
        }
      },
      "source": [
        "y_some_digit_pred"
      ],
      "execution_count": 0,
      "outputs": [
        {
          "output_type": "execute_result",
          "data": {
            "text/plain": [
              "array([ True])"
            ]
          },
          "metadata": {
            "tags": []
          },
          "execution_count": 58
        }
      ]
    },
    {
      "cell_type": "code",
      "metadata": {
        "id": "P7XtfF01elIF",
        "colab_type": "code",
        "trusted": true,
        "outputId": "d28ad472-9b81-4b47-dc88-cfa0c2f05913",
        "colab": {
          "base_uri": "https://localhost:8080/",
          "height": 34
        }
      },
      "source": [
        "threshold = 200000\n",
        "y_some_digit_pred = (y_scores > threshold)\n",
        "y_some_digit_pred"
      ],
      "execution_count": 0,
      "outputs": [
        {
          "output_type": "execute_result",
          "data": {
            "text/plain": [
              "array([False])"
            ]
          },
          "metadata": {
            "tags": []
          },
          "execution_count": 59
        }
      ]
    },
    {
      "cell_type": "markdown",
      "metadata": {
        "id": "au0uXULmelIN",
        "colab_type": "text"
      },
      "source": [
        "Note: there was an [issue](https://github.com/scikit-learn/scikit-learn/issues/9589) in Scikit-Learn 0.19.0 (fixed in 0.19.1) where the result of `cross_val_predict()` was incorrect in the binary classification case when using `method=\"decision_function\"`, as in the code above. The resulting array had an extra first dimension full of 0s. Just in case you are using 0.19.0, we need to add this small hack to work around this issue:"
      ]
    },
    {
      "cell_type": "markdown",
      "metadata": {
        "id": "13NPeptS_-Ec",
        "colab_type": "text"
      },
      "source": [
        "Decision Function for SGD"
      ]
    },
    {
      "cell_type": "code",
      "metadata": {
        "id": "Me9lkVX_elIL",
        "colab_type": "code",
        "trusted": true,
        "colab": {}
      },
      "source": [
        "y_scores_1 = cross_val_predict(sgd_clf, X_train, y_train_5, cv=3,\n",
        "                             method=\"decision_function\")"
      ],
      "execution_count": 0,
      "outputs": []
    },
    {
      "cell_type": "code",
      "metadata": {
        "id": "LCuUMFz_2otO",
        "colab_type": "code",
        "trusted": true,
        "outputId": "55114076-6bf4-4866-c5de-9475554d7564",
        "colab": {
          "base_uri": "https://localhost:8080/",
          "height": 51
        }
      },
      "source": [
        "y_scores_ = sgd_clf.decision_function(X_train)\n",
        "y_scores_"
      ],
      "execution_count": 0,
      "outputs": [
        {
          "output_type": "execute_result",
          "data": {
            "text/plain": [
              "array([-354608.65379616, -366237.37845356, -183007.50930812, ...,\n",
              "       -384037.65532286,  -91721.20579813, -716725.24495839])"
            ]
          },
          "metadata": {
            "tags": []
          },
          "execution_count": 61
        }
      ]
    },
    {
      "cell_type": "code",
      "metadata": {
        "trusted": true,
        "id": "OLgIR32N_-Ei",
        "colab_type": "code",
        "colab": {}
      },
      "source": [
        "if y_scores_1.ndim == 2:\n",
        "    y_scores_1 = y_scores_1[:, 1]"
      ],
      "execution_count": 0,
      "outputs": []
    },
    {
      "cell_type": "markdown",
      "metadata": {
        "id": "oR9e1yyn_-Ek",
        "colab_type": "text"
      },
      "source": [
        "Decision Function for KNN"
      ]
    },
    {
      "cell_type": "code",
      "metadata": {
        "trusted": true,
        "id": "H7A_qvUy_-El",
        "colab_type": "code",
        "colab": {}
      },
      "source": [
        "y_scores_2 = cross_val_predict(knn_clf, X_train, y_train_5, cv=3,\n",
        "                             method=\"predict_proba\")\n",
        "if y_scores_2.ndim == 2:\n",
        "    y_scores_2 = y_scores_2[:, 1]"
      ],
      "execution_count": 0,
      "outputs": []
    },
    {
      "cell_type": "code",
      "metadata": {
        "trusted": true,
        "id": "UAtgZhht_-Ep",
        "colab_type": "code",
        "outputId": "1acc1e70-2d9d-4e8f-fd27-5bc7721ff059",
        "colab": {
          "base_uri": "https://localhost:8080/",
          "height": 136
        }
      },
      "source": [
        "y_scores_ = knn_clf.predict_proba(X_train)\n",
        "y_scores_"
      ],
      "execution_count": 0,
      "outputs": [
        {
          "output_type": "execute_result",
          "data": {
            "text/plain": [
              "array([[0.92, 0.08],\n",
              "       [1.  , 0.  ],\n",
              "       [0.82, 0.18],\n",
              "       ...,\n",
              "       [1.  , 0.  ],\n",
              "       [0.7 , 0.3 ],\n",
              "       [1.  , 0.  ]])"
            ]
          },
          "metadata": {
            "tags": []
          },
          "execution_count": 64
        }
      ]
    },
    {
      "cell_type": "markdown",
      "metadata": {
        "id": "w0u0zoQo_-Er",
        "colab_type": "text"
      },
      "source": [
        "Decision Function for Random Forest"
      ]
    },
    {
      "cell_type": "code",
      "metadata": {
        "trusted": true,
        "id": "wnI3h0HI_-Es",
        "colab_type": "code",
        "colab": {}
      },
      "source": [
        "y_scores_3 = cross_val_predict(rnf_clf, X_train, y_train_5, cv=3,\n",
        "                             method=\"predict_proba\")\n",
        "if y_scores_3.ndim == 2:\n",
        "    y_scores_3 = y_scores_3[:, 1]"
      ],
      "execution_count": 0,
      "outputs": []
    },
    {
      "cell_type": "code",
      "metadata": {
        "trusted": true,
        "id": "2XQwMyKB_-Ev",
        "colab_type": "code",
        "outputId": "f77a1303-1631-497f-f3dc-5b915c9171b6",
        "colab": {
          "base_uri": "https://localhost:8080/",
          "height": 136
        }
      },
      "source": [
        "y_scores_ = rnf_clf.predict_proba(X_train)\n",
        "y_scores_"
      ],
      "execution_count": 0,
      "outputs": [
        {
          "output_type": "execute_result",
          "data": {
            "text/plain": [
              "array([[0.993, 0.007],\n",
              "       [0.997, 0.003],\n",
              "       [0.98 , 0.02 ],\n",
              "       ...,\n",
              "       [0.985, 0.015],\n",
              "       [0.953, 0.047],\n",
              "       [1.   , 0.   ]])"
            ]
          },
          "metadata": {
            "tags": []
          },
          "execution_count": 66
        }
      ]
    },
    {
      "cell_type": "markdown",
      "metadata": {
        "id": "mLTaS2IF_-Ey",
        "colab_type": "text"
      },
      "source": [
        "Decision Function for Logistic Regression"
      ]
    },
    {
      "cell_type": "code",
      "metadata": {
        "trusted": true,
        "id": "5-4kvsnI_-Ez",
        "colab_type": "code",
        "colab": {}
      },
      "source": [
        "y_scores_4 = cross_val_predict(Log_Classifier, X_train, y_train_5, cv=3,\n",
        "                             method=\"predict_proba\")\n",
        "if y_scores_4.ndim == 2:\n",
        "    y_scores_4 = y_scores_4[:, 1]"
      ],
      "execution_count": 0,
      "outputs": []
    },
    {
      "cell_type": "code",
      "metadata": {
        "trusted": true,
        "id": "u9CmVzj-_-E1",
        "colab_type": "code",
        "outputId": "7c424f6f-806b-4a85-aaab-13c33d43dbac",
        "colab": {
          "base_uri": "https://localhost:8080/",
          "height": 136
        }
      },
      "source": [
        "y_scores_ = Log_Classifier.predict_proba(X_train)\n",
        "y_scores_"
      ],
      "execution_count": 0,
      "outputs": [
        {
          "output_type": "execute_result",
          "data": {
            "text/plain": [
              "array([[9.99882916e-01, 1.17083999e-04],\n",
              "       [9.94147162e-01, 5.85283754e-03],\n",
              "       [6.61933604e-01, 3.38066396e-01],\n",
              "       ...,\n",
              "       [9.98696548e-01, 1.30345184e-03],\n",
              "       [9.84944799e-01, 1.50552010e-02],\n",
              "       [9.99999204e-01, 7.95674497e-07]])"
            ]
          },
          "metadata": {
            "tags": []
          },
          "execution_count": 68
        }
      ]
    },
    {
      "cell_type": "markdown",
      "metadata": {
        "id": "7q9XobEU2Rw_",
        "colab_type": "text"
      },
      "source": [
        "# Plot Precision/Recall Curve"
      ]
    },
    {
      "cell_type": "code",
      "metadata": {
        "id": "EUheNAdmelIR",
        "colab_type": "code",
        "trusted": true,
        "colab": {}
      },
      "source": [
        "from sklearn.metrics import precision_recall_curve\n",
        "\n",
        "precisions_1, recalls_1, thresholds_1 = precision_recall_curve(y_train_5, y_scores_1)\n",
        "precisions_2, recalls_2, thresholds_2 = precision_recall_curve(y_train_5, y_scores_2)\n",
        "precisions_3, recalls_3, thresholds_3 = precision_recall_curve(y_train_5, y_scores_3)\n",
        "precisions_4, recalls_4, thresholds_4 = precision_recall_curve(y_train_5, y_scores_4)"
      ],
      "execution_count": 0,
      "outputs": []
    },
    {
      "cell_type": "code",
      "metadata": {
        "id": "MMKtVSuGelIT",
        "colab_type": "code",
        "trusted": true,
        "outputId": "bb3c3fe4-23ec-4186-a543-51cb609bab90",
        "colab": {
          "base_uri": "https://localhost:8080/",
          "height": 288
        }
      },
      "source": [
        "def plot_precision_recall_vs_threshold(precisions, recalls, thresholds):\n",
        "    plt.plot(thresholds, precisions[:-1], \"b--\", label=\"Precision\", linewidth=2)\n",
        "    plt.plot(thresholds, recalls[:-1], \"g-\", label=\"Recall\", linewidth=2)\n",
        "    plt.xlabel(\"Threshold\", fontsize=16)\n",
        "    plt.legend(loc=\"upper left\", fontsize=16)\n",
        "    plt.ylim([0, 1])\n",
        "\n",
        "plt.figure(figsize=(8, 4))\n",
        "plot_precision_recall_vs_threshold(precisions_1, recalls_1, thresholds_1)\n",
        "plt.xlim([-700000, 700000])\n",
        "#save_fig(\"precision_recall_vs_threshold_plot\")\n",
        "plt.show()"
      ],
      "execution_count": 0,
      "outputs": [
        {
          "output_type": "display_data",
          "data": {
            "image/png": "[encoded data removed]",
            "text/plain": [
              "<Figure size 576x288 with 1 Axes>"
            ]
          },
          "metadata": {
            "tags": []
          }
        }
      ]
    },
    {
      "cell_type": "code",
      "metadata": {
        "id": "trUNTeCCelIb",
        "colab_type": "code",
        "trusted": true,
        "colab": {}
      },
      "source": [
        "y_train_pred_90_1 = (y_scores_1 > 70000)\n"
      ],
      "execution_count": 0,
      "outputs": []
    },
    {
      "cell_type": "code",
      "metadata": {
        "id": "-7RK5CjNelIc",
        "colab_type": "code",
        "trusted": true,
        "outputId": "e220a397-ccdb-46a3-ffc2-646d7695213c",
        "colab": {
          "base_uri": "https://localhost:8080/",
          "height": 34
        }
      },
      "source": [
        "print(precision_score(y_train_5, y_train_pred_90_1))"
      ],
      "execution_count": 0,
      "outputs": [
        {
          "output_type": "stream",
          "text": [
            "0.7747710241465445\n"
          ],
          "name": "stdout"
        }
      ]
    },
    {
      "cell_type": "code",
      "metadata": {
        "id": "xc5bFhfdelIf",
        "colab_type": "code",
        "trusted": true,
        "outputId": "5c2091b4-8c3c-4069-dcf5-eb420d4adf41",
        "colab": {
          "base_uri": "https://localhost:8080/",
          "height": 34
        }
      },
      "source": [
        "recall_score(y_train_5, y_train_pred_90_1)"
      ],
      "execution_count": 0,
      "outputs": [
        {
          "output_type": "execute_result",
          "data": {
            "text/plain": [
              "0.7367379255740301"
            ]
          },
          "metadata": {
            "tags": []
          },
          "execution_count": 94
        }
      ]
    },
    {
      "cell_type": "code",
      "metadata": {
        "id": "Tfqpm0YyelIh",
        "colab_type": "code",
        "trusted": true,
        "outputId": "ec6a7f07-5f20-45cb-e0dc-b3809b53ade0",
        "colab": {
          "base_uri": "https://localhost:8080/",
          "height": 397
        }
      },
      "source": [
        "def plot_precision_vs_recall(precisions, recalls):\n",
        "    plt.plot(recalls, precisions, \"b-\", linewidth=2)\n",
        "    plt.xlabel(\"Recall\", fontsize=16)\n",
        "    plt.ylabel(\"Precision\", fontsize=16)\n",
        "    plt.axis([0, 1, 0, 1])\n",
        "\n",
        "plt.figure(figsize=(8, 6))\n",
        "plot_precision_vs_recall(precisions_1, recalls_1)\n",
        "plt.show()"
      ],
      "execution_count": 0,
      "outputs": [
        {
          "output_type": "display_data",
          "data": {
            "image/png": "[encoded data removed]",
            "text/plain": [
              "<Figure size 576x432 with 1 Axes>"
            ]
          },
          "metadata": {
            "tags": []
          }
        }
      ]
    },
    {
      "cell_type": "markdown",
      "metadata": {
        "id": "uqoIl6Y__-FY",
        "colab_type": "text"
      },
      "source": [
        "KNN"
      ]
    },
    {
      "cell_type": "code",
      "metadata": {
        "trusted": true,
        "id": "0pw19N_0_-FZ",
        "colab_type": "code",
        "outputId": "bec5e59b-06ed-436f-d1b1-0ec932c3eb1c",
        "colab": {
          "base_uri": "https://localhost:8080/",
          "height": 397
        }
      },
      "source": [
        "plt.figure(figsize=(8, 6))\n",
        "plot_precision_vs_recall(precisions_2, recalls_2)\n",
        "plt.show()"
      ],
      "execution_count": 0,
      "outputs": [
        {
          "output_type": "display_data",
          "data": {
            "image/png": "[encoded data removed]",
            "text/plain": [
              "<Figure size 576x432 with 1 Axes>"
            ]
          },
          "metadata": {
            "tags": []
          }
        }
      ]
    },
    {
      "cell_type": "markdown",
      "metadata": {
        "id": "VB2EHryP_-Fa",
        "colab_type": "text"
      },
      "source": [
        "Random Forest"
      ]
    },
    {
      "cell_type": "code",
      "metadata": {
        "trusted": true,
        "id": "uY8IhykM_-Fc",
        "colab_type": "code",
        "outputId": "654f4881-7780-4245-e980-a378bc8104d5",
        "colab": {
          "base_uri": "https://localhost:8080/",
          "height": 397
        }
      },
      "source": [
        "plt.figure(figsize=(8, 6))\n",
        "plot_precision_vs_recall(precisions_3, recalls_3)\n",
        "plt.show()"
      ],
      "execution_count": 0,
      "outputs": [
        {
          "output_type": "display_data",
          "data": {
            "image/png": "[encoded data removed]",
            "text/plain": [
              "<Figure size 576x432 with 1 Axes>"
            ]
          },
          "metadata": {
            "tags": []
          }
        }
      ]
    },
    {
      "cell_type": "markdown",
      "metadata": {
        "id": "P3kPS0ty_-Ff",
        "colab_type": "text"
      },
      "source": [
        "Logistic Regression"
      ]
    },
    {
      "cell_type": "code",
      "metadata": {
        "trusted": true,
        "id": "_J5haRta_-Fg",
        "colab_type": "code",
        "outputId": "0f9bcc3d-6d59-41dd-834a-871a2a310bc3",
        "colab": {
          "base_uri": "https://localhost:8080/",
          "height": 397
        }
      },
      "source": [
        "plt.figure(figsize=(8, 6))\n",
        "plot_precision_vs_recall(precisions_4, recalls_4)\n",
        "plt.show()"
      ],
      "execution_count": 0,
      "outputs": [
        {
          "output_type": "display_data",
          "data": {
            "image/png": "[encoded data removed]",
            "text/plain": [
              "<Figure size 576x432 with 1 Axes>"
            ]
          },
          "metadata": {
            "tags": []
          }
        }
      ]
    },
    {
      "cell_type": "markdown",
      "metadata": {
        "id": "2ExQNmdfelIj",
        "colab_type": "text"
      },
      "source": [
        "# ROC curves"
      ]
    },
    {
      "cell_type": "code",
      "metadata": {
        "id": "CaIOH_3GelIk",
        "colab_type": "code",
        "trusted": true,
        "colab": {}
      },
      "source": [
        "from sklearn.metrics import roc_curve\n",
        "\n",
        "fpr_1, tpr_1, thresholds_1 = roc_curve(y_train_5, y_scores_1)\n",
        "fpr_2, tpr_2, thresholds_2 = roc_curve(y_train_5, y_scores_2)\n",
        "fpr_3, tpr_3, thresholds_3 = roc_curve(y_train_5, y_scores_3)\n",
        "fpr_4, tpr_4, thresholds_4 = roc_curve(y_train_5, y_scores_4)"
      ],
      "execution_count": 0,
      "outputs": []
    },
    {
      "cell_type": "code",
      "metadata": {
        "id": "OUTYxWz6elIm",
        "colab_type": "code",
        "trusted": true,
        "outputId": "1512d5df-683c-42d4-ed51-d193a7f1d762",
        "colab": {
          "base_uri": "https://localhost:8080/",
          "height": 397
        }
      },
      "source": [
        "def plot_roc_curve(fpr, tpr, label=None):\n",
        "    plt.plot(fpr, tpr, linewidth=2, label=label)\n",
        "    plt.plot([0, 1], [0, 1], 'k--')\n",
        "    plt.axis([0, 1, 0, 1])\n",
        "    plt.xlabel('False Positive Rate', fontsize=16)\n",
        "    plt.ylabel('True Positive Rate', fontsize=16)\n",
        "\n",
        "plt.figure(figsize=(8, 6))\n",
        "#plot_roc_curve(fpr_1, tpr_1,label='SGD ROC curve (area = {0:0.2f})'.format(roc_auc_score(y_train_5, y_scores_1)))\n",
        "plot_roc_curve(fpr_2, tpr_2,label='KNN ROC curve (area = {0:0.2f})'.format(roc_auc_score(y_train_5, y_scores_2)))\n",
        "plot_roc_curve(fpr_3, tpr_3,label='Random Forest ROC curve (area = {0:0.2f})'.format(roc_auc_score(y_train_5, y_scores_3)))\n",
        "plot_roc_curve(fpr_4, tpr_4,label='Logistic Regression ROC curve (area = {0:0.2f})'.format(roc_auc_score(y_train_5, y_scores_4)))\n",
        "plt.legend(loc=\"lower right\", fontsize=10)\n",
        "plt.show()"
      ],
      "execution_count": 0,
      "outputs": [
        {
          "output_type": "display_data",
          "data": {
            "image/png": "[encoded data removed]",
            "text/plain": [
              "<Figure size 576x432 with 1 Axes>"
            ]
          },
          "metadata": {
            "tags": []
          }
        }
      ]
    },
    {
      "cell_type": "code",
      "metadata": {
        "id": "S8Mg8_9selIo",
        "colab_type": "code",
        "trusted": true,
        "outputId": "5a0fa1dc-2d33-4fd0-88e1-a3aa1b89a387",
        "colab": {
          "base_uri": "https://localhost:8080/",
          "height": 85
        }
      },
      "source": [
        "from sklearn.metrics import roc_auc_score\n",
        "\n",
        "print(roc_auc_score(y_train_5, y_scores_1)) #SGD\n",
        "print(roc_auc_score(y_train_5, y_scores_2)) # KNN\n",
        "print(roc_auc_score(y_train_5, y_scores_3)) # Random Forest\n",
        "print(roc_auc_score(y_train_5, y_scores_4)) # Logistic Regression"
      ],
      "execution_count": 0,
      "outputs": [
        {
          "output_type": "stream",
          "text": [
            "0.9599692949158228\n",
            "0.9981925219609754\n",
            "0.9988029746971296\n",
            "0.9750200218116297\n"
          ],
          "name": "stdout"
        }
      ]
    },
    {
      "cell_type": "markdown",
      "metadata": {
        "id": "OZXl7Jg7_-Fv",
        "colab_type": "text"
      },
      "source": [
        "This completes the analysis for the three classification models: KNN, Random Forest and Logistic Regression "
      ]
    },
    {
      "cell_type": "markdown",
      "metadata": {
        "id": "u4bwYXGqelIs",
        "colab_type": "text"
      },
      "source": [
        "**Note**: we set `n_estimators=10` to avoid a warning about the fact that its default value will be set to 100 in Scikit-Learn 0.22."
      ]
    },
    {
      "cell_type": "code",
      "metadata": {
        "id": "tPlF18PLelIs",
        "colab_type": "code",
        "trusted": true,
        "colab": {}
      },
      "source": [
        "from sklearn.ensemble import RandomForestClassifier\n",
        "forest_clf = RandomForestClassifier(n_estimators=10, random_state=42)\n",
        "y_probas_forest = cross_val_predict(forest_clf, X_train, y_train_5, cv=3,\n",
        "                                    method=\"predict_proba\")"
      ],
      "execution_count": 0,
      "outputs": []
    },
    {
      "cell_type": "code",
      "metadata": {
        "id": "27pryXfKelIw",
        "colab_type": "code",
        "trusted": true,
        "colab": {}
      },
      "source": [
        "y_scores_forest = y_probas_forest[:, 1] # score = proba of positive class\n",
        "fpr_forest, tpr_forest, thresholds_forest = roc_curve(y_train_5,y_scores_forest)"
      ],
      "execution_count": 0,
      "outputs": []
    },
    {
      "cell_type": "code",
      "metadata": {
        "id": "Fyzj2tS1elIw",
        "colab_type": "code",
        "trusted": true,
        "outputId": "a6db6b90-b4ef-495b-9db0-bab27be97827",
        "colab": {
          "base_uri": "https://localhost:8080/",
          "height": 397
        }
      },
      "source": [
        "plt.figure(figsize=(8, 6))\n",
        "plt.plot(fpr_forest, tpr_forest, \"b:\", linewidth=2, label=\"SGD\")\n",
        "plot_roc_curve(fpr_forest, tpr_forest, \"Random Forest\")\n",
        "plt.legend(loc=\"lower right\", fontsize=16)\n",
        "#save_fig(\"roc_curve_comparison_plot\")\n",
        "plt.show()"
      ],
      "execution_count": 0,
      "outputs": [
        {
          "output_type": "display_data",
          "data": {
            "image/png": "[encoded data removed]",
            "text/plain": [
              "<Figure size 576x432 with 1 Axes>"
            ]
          },
          "metadata": {
            "tags": []
          }
        }
      ]
    },
    {
      "cell_type": "code",
      "metadata": {
        "id": "TuG4yb0yelIz",
        "colab_type": "code",
        "trusted": true,
        "outputId": "468d4b57-d527-4496-ab53-bd9aa5f6f5a6",
        "colab": {
          "base_uri": "https://localhost:8080/",
          "height": 34
        }
      },
      "source": [
        "roc_auc_score(y_train_5, y_scores_forest)"
      ],
      "execution_count": 0,
      "outputs": [
        {
          "output_type": "execute_result",
          "data": {
            "text/plain": [
              "0.9929575956414287"
            ]
          },
          "metadata": {
            "tags": []
          },
          "execution_count": 89
        }
      ]
    },
    {
      "cell_type": "code",
      "metadata": {
        "id": "-Hk1V2HselI0",
        "colab_type": "code",
        "trusted": true,
        "outputId": "93eb0c1a-6b86-40af-fb71-d56ade946c08",
        "colab": {
          "base_uri": "https://localhost:8080/",
          "height": 34
        }
      },
      "source": [
        "y_train_pred_forest = cross_val_predict(forest_clf, X_train, y_train_5, cv=3)\n",
        "precision_score(y_train_5, y_train_pred_forest)"
      ],
      "execution_count": 0,
      "outputs": [
        {
          "output_type": "execute_result",
          "data": {
            "text/plain": [
              "0.9848197343453511"
            ]
          },
          "metadata": {
            "tags": []
          },
          "execution_count": 90
        }
      ]
    },
    {
      "cell_type": "code",
      "metadata": {
        "id": "3AabNA0_elI2",
        "colab_type": "code",
        "trusted": true,
        "outputId": "663437fc-58f6-48d5-e7a6-53b762d22cf6",
        "colab": {
          "base_uri": "https://localhost:8080/",
          "height": 34
        }
      },
      "source": [
        "recall_score(y_train_5, y_train_pred_forest)"
      ],
      "execution_count": 0,
      "outputs": [
        {
          "output_type": "execute_result",
          "data": {
            "text/plain": [
              "0.8218527315914489"
            ]
          },
          "metadata": {
            "tags": []
          },
          "execution_count": 91
        }
      ]
    },
    {
      "cell_type": "markdown",
      "metadata": {
        "id": "7s2eSzdJelI3",
        "colab_type": "text"
      },
      "source": [
        "# Multiclass classification"
      ]
    },
    {
      "cell_type": "code",
      "metadata": {
        "id": "XC4y3k-3elI4",
        "colab_type": "code",
        "trusted": true,
        "outputId": "e1c697cd-a3d1-477a-85dd-5e27a394a727",
        "colab": {
          "base_uri": "https://localhost:8080/",
          "height": 34
        }
      },
      "source": [
        "sgd_clf.fit(X_train, y_train)\n",
        "sgd_clf.predict([some_digit])"
      ],
      "execution_count": 0,
      "outputs": [
        {
          "output_type": "execute_result",
          "data": {
            "text/plain": [
              "array([5], dtype=int8)"
            ]
          },
          "metadata": {
            "tags": []
          },
          "execution_count": 97
        }
      ]
    },
    {
      "cell_type": "code",
      "metadata": {
        "id": "MfwAxuGbelI7",
        "colab_type": "code",
        "trusted": true,
        "outputId": "b3e8a441-fde8-475f-b623-4fa450ed9de1",
        "colab": {
          "base_uri": "https://localhost:8080/",
          "height": 85
        }
      },
      "source": [
        "some_digit_scores = sgd_clf.decision_function([some_digit])\n",
        "some_digit_scores"
      ],
      "execution_count": 0,
      "outputs": [
        {
          "output_type": "execute_result",
          "data": {
            "text/plain": [
              "array([[-324388.95157198,  -99887.66296822, -112526.05825708,\n",
              "        -169991.66672577, -307171.55936022,   77017.77608649,\n",
              "        -627126.25096493, -394692.66087438, -277561.20359211,\n",
              "        -616839.88760941]])"
            ]
          },
          "metadata": {
            "tags": []
          },
          "execution_count": 98
        }
      ]
    },
    {
      "cell_type": "code",
      "metadata": {
        "id": "4QODnopNelI9",
        "colab_type": "code",
        "trusted": true,
        "outputId": "63db4a26-65e8-45d1-b0f1-064a9c35ef1f",
        "colab": {
          "base_uri": "https://localhost:8080/",
          "height": 34
        }
      },
      "source": [
        "np.argmax(some_digit_scores)"
      ],
      "execution_count": 0,
      "outputs": [
        {
          "output_type": "execute_result",
          "data": {
            "text/plain": [
              "5"
            ]
          },
          "metadata": {
            "tags": []
          },
          "execution_count": 99
        }
      ]
    },
    {
      "cell_type": "code",
      "metadata": {
        "id": "EQt_SAdlelI_",
        "colab_type": "code",
        "trusted": true,
        "outputId": "c599b310-1e3f-4dce-cc6c-eed1b7397e50",
        "colab": {
          "base_uri": "https://localhost:8080/",
          "height": 34
        }
      },
      "source": [
        "# Look at number of classes for target variable\n",
        "sgd_clf.classes_"
      ],
      "execution_count": 0,
      "outputs": [
        {
          "output_type": "execute_result",
          "data": {
            "text/plain": [
              "array([0, 1, 2, 3, 4, 5, 6, 7, 8, 9], dtype=int8)"
            ]
          },
          "metadata": {
            "tags": []
          },
          "execution_count": 100
        }
      ]
    },
    {
      "cell_type": "code",
      "metadata": {
        "id": "tquBtKcVelJA",
        "colab_type": "code",
        "trusted": true,
        "outputId": "4bc2302d-a189-4acc-8d68-7be4d750f381",
        "colab": {
          "base_uri": "https://localhost:8080/",
          "height": 34
        }
      },
      "source": [
        "sgd_clf.classes_[5]"
      ],
      "execution_count": 0,
      "outputs": [
        {
          "output_type": "execute_result",
          "data": {
            "text/plain": [
              "5"
            ]
          },
          "metadata": {
            "tags": []
          },
          "execution_count": 101
        }
      ]
    },
    {
      "cell_type": "code",
      "metadata": {
        "id": "DD3nCR2lelJC",
        "colab_type": "code",
        "trusted": true,
        "outputId": "dd9b472d-0658-4f03-a224-62d397b6bbba",
        "colab": {
          "base_uri": "https://localhost:8080/",
          "height": 34
        }
      },
      "source": [
        "from sklearn.multiclass import OneVsOneClassifier\n",
        "ovo_clf = OneVsOneClassifier(SGDClassifier(max_iter=5, tol=-np.infty, random_state=42))\n",
        "ovo_clf.fit(X_train, y_train)\n",
        "ovo_clf.predict([some_digit])"
      ],
      "execution_count": 0,
      "outputs": [
        {
          "output_type": "execute_result",
          "data": {
            "text/plain": [
              "array([5], dtype=int8)"
            ]
          },
          "metadata": {
            "tags": []
          },
          "execution_count": 102
        }
      ]
    },
    {
      "cell_type": "code",
      "metadata": {
        "id": "RNKFLvrxelJE",
        "colab_type": "code",
        "trusted": true,
        "outputId": "2437cfff-b394-4be9-c5d3-6aae4487f0c6",
        "colab": {
          "base_uri": "https://localhost:8080/",
          "height": 34
        }
      },
      "source": [
        "len(ovo_clf.estimators_)"
      ],
      "execution_count": 0,
      "outputs": [
        {
          "output_type": "execute_result",
          "data": {
            "text/plain": [
              "45"
            ]
          },
          "metadata": {
            "tags": []
          },
          "execution_count": 103
        }
      ]
    },
    {
      "cell_type": "code",
      "metadata": {
        "id": "4ksYKTdeelJI",
        "colab_type": "code",
        "trusted": true,
        "outputId": "7fadcf3f-b985-44e8-dd31-54405f4be652",
        "colab": {
          "base_uri": "https://localhost:8080/",
          "height": 34
        }
      },
      "source": [
        "forest_clf.fit(X_train, y_train)\n",
        "forest_clf.predict([some_digit])"
      ],
      "execution_count": 0,
      "outputs": [
        {
          "output_type": "execute_result",
          "data": {
            "text/plain": [
              "array([5], dtype=int8)"
            ]
          },
          "metadata": {
            "tags": []
          },
          "execution_count": 104
        }
      ]
    },
    {
      "cell_type": "code",
      "metadata": {
        "id": "eoopOtdgelJJ",
        "colab_type": "code",
        "trusted": true,
        "outputId": "8d409cd2-4744-4274-91c7-e6f96a93fea0",
        "colab": {
          "base_uri": "https://localhost:8080/",
          "height": 34
        }
      },
      "source": [
        "forest_clf.predict_proba([some_digit])"
      ],
      "execution_count": 0,
      "outputs": [
        {
          "output_type": "execute_result",
          "data": {
            "text/plain": [
              "array([[0., 0., 0., 0., 0., 1., 0., 0., 0., 0.]])"
            ]
          },
          "metadata": {
            "tags": []
          },
          "execution_count": 105
        }
      ]
    },
    {
      "cell_type": "code",
      "metadata": {
        "id": "DDhh99FjelJM",
        "colab_type": "code",
        "trusted": true,
        "outputId": "fae9ad3c-f7ec-44d9-ee30-09917f0c9787",
        "colab": {
          "base_uri": "https://localhost:8080/",
          "height": 34
        }
      },
      "source": [
        "cross_val_score(sgd_clf, X_train, y_train, cv=3, scoring=\"accuracy\")"
      ],
      "execution_count": 0,
      "outputs": [
        {
          "output_type": "execute_result",
          "data": {
            "text/plain": [
              "array([0.8624846 , 0.85637756, 0.86306654])"
            ]
          },
          "metadata": {
            "tags": []
          },
          "execution_count": 106
        }
      ]
    },
    {
      "cell_type": "code",
      "metadata": {
        "id": "RaZwwlbGelJP",
        "colab_type": "code",
        "trusted": true,
        "outputId": "ce174764-e0a3-4c10-8298-0e9326869693",
        "colab": {
          "base_uri": "https://localhost:8080/",
          "height": 34
        }
      },
      "source": [
        "from sklearn.preprocessing import StandardScaler\n",
        "scaler = StandardScaler()\n",
        "X_train_scaled = scaler.fit_transform(X_train.astype(np.float64))\n",
        "cross_val_score(sgd_clf, X_train_scaled, y_train, cv=3, scoring=\"accuracy\")"
      ],
      "execution_count": 0,
      "outputs": [
        {
          "output_type": "execute_result",
          "data": {
            "text/plain": [
              "array([0.90973375, 0.90726951, 0.90806815])"
            ]
          },
          "metadata": {
            "tags": []
          },
          "execution_count": 107
        }
      ]
    },
    {
      "cell_type": "markdown",
      "metadata": {
        "id": "4tff9trS6LIm",
        "colab_type": "text"
      },
      "source": [
        "Adding Random Forest, KNN and Logistic Classifiers"
      ]
    },
    {
      "cell_type": "code",
      "metadata": {
        "id": "C7ZIU2CT6mzF",
        "colab_type": "code",
        "outputId": "14387d2c-55b4-445c-e7de-32df93814392",
        "colab": {
          "base_uri": "https://localhost:8080/",
          "height": 34
        }
      },
      "source": [
        "cross_val_score(rnf_clf, X_train_scaled, y_train, cv=3, scoring=\"accuracy\")\n",
        "cross_val_score(knn_clf, X_train_scaled, y_train, cv=3, scoring=\"accuracy\")\n",
        "cross_val_score(Log_Classifier, X_train_scaled, y_train, cv=3, scoring=\"accuracy\")"
      ],
      "execution_count": 0,
      "outputs": [
        {
          "output_type": "execute_result",
          "data": {
            "text/plain": [
              "array([0.90716237, 0.90378743, 0.90388942])"
            ]
          },
          "metadata": {
            "tags": []
          },
          "execution_count": 108
        }
      ]
    },
    {
      "cell_type": "markdown",
      "metadata": {
        "id": "MFWBESK86nph",
        "colab_type": "text"
      },
      "source": [
        "Confusion Matrix for SGD "
      ]
    },
    {
      "cell_type": "code",
      "metadata": {
        "id": "OT_-9qveelJR",
        "colab_type": "code",
        "trusted": true,
        "outputId": "f98d4049-8339-4e73-d2d1-127c53e97362",
        "colab": {
          "base_uri": "https://localhost:8080/",
          "height": 187
        }
      },
      "source": [
        "y_train_pred = cross_val_predict(sgd_clf, X_train_scaled, y_train, cv=3)\n",
        "conf_mx = confusion_matrix(y_train, y_train_pred)\n",
        "conf_mx"
      ],
      "execution_count": 0,
      "outputs": [
        {
          "output_type": "execute_result",
          "data": {
            "text/plain": [
              "array([[5339,    2,   26,    9,   12,   35,   36,    9,   32,    2],\n",
              "       [   1, 6031,   43,   25,    5,   42,    9,   11,  136,   10],\n",
              "       [  51,   31, 4994,   96,   91,   19,   76,   55,  161,   15],\n",
              "       [  51,   35,  137, 4987,    2,  222,   33,   55,  123,   92],\n",
              "       [  17,   25,   43,    8, 5021,   10,   54,   33,   87,  182],\n",
              "       [  75,   38,   33,  171,   70, 4293,  113,   21,  149,   89],\n",
              "       [  36,   22,   58,    1,   38,   96, 5162,    6,   40,    0],\n",
              "       [  26,   24,   69,   25,   46,    9,    4, 5465,   16,  195],\n",
              "       [  61,  117,   80,  141,   16,  159,   52,   26, 4663,  126],\n",
              "       [  43,   30,   28,   77,  173,   27,    1,  186,   70, 4913]])"
            ]
          },
          "metadata": {
            "tags": []
          },
          "execution_count": 109
        }
      ]
    },
    {
      "cell_type": "code",
      "metadata": {
        "id": "wN7CcURwelJU",
        "colab_type": "code",
        "trusted": true,
        "colab": {}
      },
      "source": [
        "def plot_confusion_matrix(matrix):\n",
        "    \"\"\"If you prefer color and a colorbar\"\"\"\n",
        "    fig = plt.figure(figsize=(8,8))\n",
        "    ax = fig.add_subplot(111)\n",
        "    cax = ax.matshow(matrix)\n",
        "    fig.colorbar(cax)"
      ],
      "execution_count": 0,
      "outputs": []
    },
    {
      "cell_type": "code",
      "metadata": {
        "id": "uMNzmLW0elJX",
        "colab_type": "code",
        "trusted": true,
        "outputId": "2ccfb051-0727-4a8b-baa4-a90afad310d9",
        "colab": {
          "base_uri": "https://localhost:8080/",
          "height": 275
        }
      },
      "source": [
        "plt.matshow(conf_mx, cmap=plt.cm.gray)\n",
        "#save_fig(\"confusion_matrix_plot\", tight_layout=False)\n",
        "plt.show()"
      ],
      "execution_count": 0,
      "outputs": [
        {
          "output_type": "display_data",
          "data": {
            "image/png": "[encoded data removed]",
            "text/plain": [
              "<Figure size 288x288 with 1 Axes>"
            ]
          },
          "metadata": {
            "tags": []
          }
        }
      ]
    },
    {
      "cell_type": "code",
      "metadata": {
        "id": "_Vtq08Z1elJa",
        "colab_type": "code",
        "trusted": true,
        "colab": {}
      },
      "source": [
        "row_sums = conf_mx.sum(axis=1, keepdims=True)\n",
        "norm_conf_mx = conf_mx / row_sums"
      ],
      "execution_count": 0,
      "outputs": []
    },
    {
      "cell_type": "code",
      "metadata": {
        "id": "0bjcbfqfelJc",
        "colab_type": "code",
        "trusted": true,
        "outputId": "bf2e3c68-1a45-4a75-a4d6-84e7f17971c7",
        "colab": {
          "base_uri": "https://localhost:8080/",
          "height": 275
        }
      },
      "source": [
        "np.fill_diagonal(norm_conf_mx, 0)\n",
        "plt.matshow(norm_conf_mx, cmap=plt.cm.gray)\n",
        "#save_fig(\"confusion_matrix_errors_plot\", tight_layout=False)\n",
        "plt.show()"
      ],
      "execution_count": 0,
      "outputs": [
        {
          "output_type": "display_data",
          "data": {
            "image/png": "[encoded data removed]",
            "text/plain": [
              "<Figure size 288x288 with 1 Axes>"
            ]
          },
          "metadata": {
            "tags": []
          }
        }
      ]
    },
    {
      "cell_type": "markdown",
      "metadata": {
        "id": "46oI4TOh7Riv",
        "colab_type": "text"
      },
      "source": [
        "Confusion Matrix for Random Forest"
      ]
    },
    {
      "cell_type": "code",
      "metadata": {
        "id": "laOcpovH7Jkb",
        "colab_type": "code",
        "outputId": "975bcb4f-5f30-44ac-d2a3-afbbf1c3deb8",
        "colab": {
          "base_uri": "https://localhost:8080/",
          "height": 187
        }
      },
      "source": [
        "y_train_pred_rnf = cross_val_predict(rnf_clf, X_train_scaled, y_train, cv=3)\n",
        "conf_rnf = confusion_matrix(y_train, y_train_pred_rnf)\n",
        "conf_rnf"
      ],
      "execution_count": 0,
      "outputs": [
        {
          "output_type": "execute_result",
          "data": {
            "text/plain": [
              "array([[5422,    1,    7,    1,    4,    7,   22,    1,   34,    3],\n",
              "       [   0, 6213,   34,   15,    8,    5,    9,   15,    8,    6],\n",
              "       [  23,    8, 5409,   26,   23,    1,   20,   43,   31,    5],\n",
              "       [   6,    6,   77, 5455,    3,   57,    7,   47,   55,   24],\n",
              "       [  12,    9,    7,    0, 5314,    1,   28,    6,   13,   90],\n",
              "       [  19,    4,    9,   53,   10, 4865,   43,    5,   23,   21],\n",
              "       [  24,   12,    3,    0,   10,   31, 5364,    0,   15,    0],\n",
              "       [   9,   17,   55,    5,   32,    1,    0, 5685,   10,   65],\n",
              "       [  11,   28,   26,   41,   26,   33,   23,    6, 5195,   52],\n",
              "       [  26,   11,   19,   65,   64,   12,    3,   46,   35, 5267]])"
            ]
          },
          "metadata": {
            "tags": []
          },
          "execution_count": 114
        }
      ]
    },
    {
      "cell_type": "code",
      "metadata": {
        "id": "bH_8ixXW7h1g",
        "colab_type": "code",
        "outputId": "b7492104-f8f2-4f9d-d0c6-84ff8791f498",
        "colab": {
          "base_uri": "https://localhost:8080/",
          "height": 275
        }
      },
      "source": [
        "plt.matshow(conf_rnf, cmap=plt.cm.gray)\n",
        "#save_fig(\"confusion_matrix_plot\", tight_layout=False)\n",
        "plt.show()"
      ],
      "execution_count": 0,
      "outputs": [
        {
          "output_type": "display_data",
          "data": {
            "image/png": "[encoded data removed]",
            "text/plain": [
              "<Figure size 288x288 with 1 Axes>"
            ]
          },
          "metadata": {
            "tags": []
          }
        }
      ]
    },
    {
      "cell_type": "code",
      "metadata": {
        "id": "gHuARLDY7mWu",
        "colab_type": "code",
        "colab": {}
      },
      "source": [
        "row_sums = conf_rnf.sum(axis=1, keepdims=True)\n",
        "norm_conf_rnf = conf_rnf / row_sums"
      ],
      "execution_count": 0,
      "outputs": []
    },
    {
      "cell_type": "code",
      "metadata": {
        "id": "OweYbfEm7rXe",
        "colab_type": "code",
        "outputId": "e2ac13ae-c315-4e14-c41a-16953d6f05d8",
        "colab": {
          "base_uri": "https://localhost:8080/",
          "height": 275
        }
      },
      "source": [
        "np.fill_diagonal(norm_conf_rnf, 0)\n",
        "plt.matshow(norm_conf_rnf, cmap=plt.cm.gray)\n",
        "#save_fig(\"confusion_matrix_errors_plot\", tight_layout=False)\n",
        "plt.show()"
      ],
      "execution_count": 0,
      "outputs": [
        {
          "output_type": "display_data",
          "data": {
            "image/png": "[encoded data removed]",
            "text/plain": [
              "<Figure size 288x288 with 1 Axes>"
            ]
          },
          "metadata": {
            "tags": []
          }
        }
      ]
    },
    {
      "cell_type": "markdown",
      "metadata": {
        "id": "cTgRDR2o74VE",
        "colab_type": "text"
      },
      "source": [
        "Confusion Matrix for KNN"
      ]
    },
    {
      "cell_type": "code",
      "metadata": {
        "id": "ax033jXw77rR",
        "colab_type": "code",
        "outputId": "10d7910b-5672-452f-9fea-a2e6c45e3a4d",
        "colab": {
          "base_uri": "https://localhost:8080/",
          "height": 187
        }
      },
      "source": [
        "y_train_pred_knn = cross_val_predict(knn_clf, X_train_scaled, y_train, cv=3)\n",
        "conf_knn = confusion_matrix(y_train, y_train_pred_knn)\n",
        "conf_knn"
      ],
      "execution_count": 0,
      "outputs": [
        {
          "output_type": "execute_result",
          "data": {
            "text/plain": [
              "array([[5393,    9,   13,    9,    4,   20,   42,    4,    4,    4],\n",
              "       [   1, 6249,   19,   10,    6,    2,   13,    4,    3,    6],\n",
              "       [ 109,  190, 4800,  151,   53,   14,   89,   98,   72,   13],\n",
              "       [  19,   60,   58, 5292,    7,   82,   11,   93,   66,   49],\n",
              "       [  11,  130,   43,    9, 4955,   32,   24,   20,    4,  252],\n",
              "       [  47,   51,   18,  183,   32, 4482,  107,   17,   28,   87],\n",
              "       [ 118,   35,   31,    2,   26,   61, 5176,    1,    9,    0],\n",
              "       [  15,  172,   13,   25,   70,    4,    0, 5236,    4,  340],\n",
              "       [  63,  177,   41,  145,   46,  269,   37,   18, 4538,  107],\n",
              "       [  34,   43,   26,   71,  143,   13,    1,  269,   14, 4934]])"
            ]
          },
          "metadata": {
            "tags": []
          },
          "execution_count": 118
        }
      ]
    },
    {
      "cell_type": "code",
      "metadata": {
        "id": "eorK6fyE8EGl",
        "colab_type": "code",
        "outputId": "2feb7eaa-0b7a-41a7-8cde-68f43b53d580",
        "colab": {
          "base_uri": "https://localhost:8080/",
          "height": 275
        }
      },
      "source": [
        "plt.matshow(conf_knn, cmap=plt.cm.gray)\n",
        "#save_fig(\"confusion_matrix_plot\", tight_layout=False)\n",
        "plt.show()"
      ],
      "execution_count": 0,
      "outputs": [
        {
          "output_type": "display_data",
          "data": {
            "image/png": "[encoded data removed]",
            "text/plain": [
              "<Figure size 288x288 with 1 Axes>"
            ]
          },
          "metadata": {
            "tags": []
          }
        }
      ]
    },
    {
      "cell_type": "code",
      "metadata": {
        "id": "xgptTnmo8HMO",
        "colab_type": "code",
        "colab": {}
      },
      "source": [
        "row_sums = conf_knn.sum(axis=1, keepdims=True)\n",
        "norm_conf_knn = conf_knn / row_sums"
      ],
      "execution_count": 0,
      "outputs": []
    },
    {
      "cell_type": "code",
      "metadata": {
        "id": "j29RL-hB8MZD",
        "colab_type": "code",
        "outputId": "43abd71d-1add-4b88-fc16-bf13f4894223",
        "colab": {
          "base_uri": "https://localhost:8080/",
          "height": 275
        }
      },
      "source": [
        "np.fill_diagonal(norm_conf_knn, 0)\n",
        "plt.matshow(norm_conf_knn, cmap=plt.cm.gray)\n",
        "#save_fig(\"confusion_matrix_errors_plot\", tight_layout=False)\n",
        "plt.show()"
      ],
      "execution_count": 0,
      "outputs": [
        {
          "output_type": "display_data",
          "data": {
            "image/png": "[encoded data removed]",
            "text/plain": [
              "<Figure size 288x288 with 1 Axes>"
            ]
          },
          "metadata": {
            "tags": []
          }
        }
      ]
    },
    {
      "cell_type": "markdown",
      "metadata": {
        "id": "6ARAf3X98Ra4",
        "colab_type": "text"
      },
      "source": [
        "Confusion Matrix for Logistic Classification"
      ]
    },
    {
      "cell_type": "code",
      "metadata": {
        "id": "bQvYC-bN8XBy",
        "colab_type": "code",
        "outputId": "4e723164-20b7-468a-b3f1-6861593c8f53",
        "colab": {
          "base_uri": "https://localhost:8080/",
          "height": 187
        }
      },
      "source": [
        "y_train_pred_log = cross_val_predict(Log_Classifier, X_train_scaled, y_train, cv=3)\n",
        "conf_log = confusion_matrix(y_train, y_train_pred_log)\n",
        "conf_log"
      ],
      "execution_count": 0,
      "outputs": [
        {
          "output_type": "execute_result",
          "data": {
            "text/plain": [
              "array([[5244,    1,   35,   15,   17,   70,   56,   17,   35,   12],\n",
              "       [   2, 6097,   54,   26,    9,   31,    7,   17,   60,   10],\n",
              "       [  46,   86, 4863,  119,   76,   40,   78,   83,  169,   29],\n",
              "       [  33,   32,  155, 5035,   18,  200,   12,   74,  121,   57],\n",
              "       [  15,   30,   61,   11, 4987,    9,   64,   53,   45,  205],\n",
              "       [  52,   26,   50,  172,   55, 4362,   98,   25,  157,   55],\n",
              "       [  52,   17,   78,    8,   57,   86, 5122,    5,   29,    5],\n",
              "       [  17,   26,   65,   44,   66,    9,    5, 5415,   21,  211],\n",
              "       [  48,  120,  107,  164,   36,  189,   51,   22, 4613,   91],\n",
              "       [  22,   27,   24,   71,  169,   50,    2,  191,   53, 4939]])"
            ]
          },
          "metadata": {
            "tags": []
          },
          "execution_count": 122
        }
      ]
    },
    {
      "cell_type": "code",
      "metadata": {
        "id": "7E87o3WT8n7e",
        "colab_type": "code",
        "outputId": "fd3ede23-6979-4d99-8418-48e62a5ea6fd",
        "colab": {
          "base_uri": "https://localhost:8080/",
          "height": 275
        }
      },
      "source": [
        "plt.matshow(conf_log, cmap=plt.cm.gray)\n",
        "#save_fig(\"confusion_matrix_plot\", tight_layout=False)\n",
        "plt.show()"
      ],
      "execution_count": 0,
      "outputs": [
        {
          "output_type": "display_data",
          "data": {
            "image/png": "[encoded data removed]",
            "text/plain": [
              "<Figure size 288x288 with 1 Axes>"
            ]
          },
          "metadata": {
            "tags": []
          }
        }
      ]
    },
    {
      "cell_type": "code",
      "metadata": {
        "id": "XWmsDaon8q1Z",
        "colab_type": "code",
        "colab": {}
      },
      "source": [
        "row_sums = conf_log.sum(axis=1, keepdims=True)\n",
        "norm_conf_log = conf_log / row_sums"
      ],
      "execution_count": 0,
      "outputs": []
    },
    {
      "cell_type": "code",
      "metadata": {
        "id": "8t-UFj_68x70",
        "colab_type": "code",
        "outputId": "27f859a4-3ddd-4c9e-e6be-c8fd7184c90c",
        "colab": {
          "base_uri": "https://localhost:8080/",
          "height": 275
        }
      },
      "source": [
        "np.fill_diagonal(norm_conf_log, 0)\n",
        "plt.matshow(norm_conf_log, cmap=plt.cm.gray)\n",
        "#save_fig(\"confusion_matrix_errors_plot\", tight_layout=False)\n",
        "plt.show()"
      ],
      "execution_count": 0,
      "outputs": [
        {
          "output_type": "display_data",
          "data": {
            "image/png": "[encoded data removed]",
            "text/plain": [
              "<Figure size 288x288 with 1 Axes>"
            ]
          },
          "metadata": {
            "tags": []
          }
        }
      ]
    }
  ]
}